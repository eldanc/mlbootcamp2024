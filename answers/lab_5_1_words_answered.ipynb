{
  "nbformat": 4,
  "nbformat_minor": 0,
  "metadata": {
    "colab": {
      "provenance": []
    },
    "kernelspec": {
      "name": "python3",
      "display_name": "Python 3"
    },
    "language_info": {
      "name": "python"
    }
  },
  "cells": [
    {
      "cell_type": "markdown",
      "source": [
        "# UofT FASE ML Bootcamp\n",
        "#### Friday June 14, 2024\n",
        "####  Word Embeddings - Properties, Meaning and Training - Lab 1, Day 5\n",
        "#### Teaching team: Eldan Cohen, Alex Olson, Nakul Upadhya, Hriday Chheda\n",
        "##### Based on CARTE-DSI ML Bootcamp 2023 notebook by Prof. Jonathan Rose\n",
        "\n",
        "This lab engages you in the properties, meaning, viewing and training of word embeddings (also called word vectors). The specific learning objectives in this assignment are:\n",
        "\n",
        "1.   To learn word embedding properties, and use them in simple ways.\n",
        "2.   (optional) To translate vectors into understandable categories of meaning\n",
        "3.   To understand how embeddings are created, using the Skip Gram method.\n",
        "\n",
        "---\n",
        "\n",
        "\n",
        "\n"
      ],
      "metadata": {
        "id": "qDdF-DpXWg1q"
      }
    },
    {
      "cell_type": "markdown",
      "source": [
        "# 1. Experimenting and Understanding Word Embedding/Vectors\n",
        "# Using the GloVe Embeddings\n",
        "\n",
        "\n",
        "Word embeddings (also known as word vectors) are a way to encode the meaning of words into a set of numbers.\n",
        "\n",
        "These embeddings are created by training a neural network model using many examples of the use of language.  These examples could be the whole of Wikipedia or a large collection of news articles.\n",
        "\n",
        "To start, we will explore a set of word embeddings that someone else took the time and computational power to create. One of the most commonly-used pre-trained word embeddings are the **GloVe embeddings**."
      ],
      "metadata": {
        "id": "UMKnFM6Wkl46"
      }
    },
    {
      "cell_type": "markdown",
      "source": [
        "## GloVe Embeddings\n",
        "\n",
        "You can read about the GloVe embeddings here: https://nlp.stanford.edu/projects/glove/, and read the original paper describing how they work here: https://nlp.stanford.edu/pubs/glove.pdf.\n",
        "\n",
        "There are several variations of GloVe embeddings. They differ in the text used to train the embedding, and the *size* of the embeddings.\n",
        "\n",
        "Throughout this lab we'll use a package called `torchtext`, that is part of PyTorch.\n",
        "\n",
        "We'll begin by loading a set of GloVe embeddings. The first time you run the code below, it will cause the download of a large file (862MB) containing the embeddings."
      ],
      "metadata": {
        "id": "rNg2XmmFlfuJ"
      }
    },
    {
      "cell_type": "code",
      "source": [
        "# Import the required libraries\n",
        "import torch\n",
        "import torchtext\n",
        "import pandas as pd\n",
        "torchtext.disable_torchtext_deprecation_warning()\n",
        "from torchtext.vocab import GloVe"
      ],
      "metadata": {
        "id": "PjRMuu2Fnb9H"
      },
      "execution_count": 2,
      "outputs": []
    },
    {
      "cell_type": "code",
      "execution_count": 3,
      "metadata": {
        "id": "ypuiFEIYWfkz",
        "colab": {
          "base_uri": "https://localhost:8080/"
        },
        "outputId": "4678740b-867d-4312-f9a9-3743a90f8cc9"
      },
      "outputs": [
        {
          "output_type": "stream",
          "name": "stderr",
          "text": [
            ".vector_cache/glove.6B.zip: 862MB [02:39, 5.41MB/s]                           \n",
            "100%|█████████▉| 399999/400000 [00:23<00:00, 16729.41it/s]\n"
          ]
        }
      ],
      "source": [
        "# The first time you run this will download a ~862MB file\n",
        "glove = GloVe(name=\"6B\", # trained on Wikipedia 2014 corpus\n",
        "              dim=50)  # embedding size = 50"
      ]
    },
    {
      "cell_type": "markdown",
      "source": [
        "We can use the loaded glove embeddings to look up the embeddings of individual words.\n",
        "For example, let's look at what the embedding of the word \"apple\" looks like:"
      ],
      "metadata": {
        "id": "NiKD_dpmtuWf"
      }
    },
    {
      "cell_type": "code",
      "source": [
        "glove['apple']"
      ],
      "metadata": {
        "colab": {
          "base_uri": "https://localhost:8080/"
        },
        "id": "M4i4ocTQmIYQ",
        "outputId": "82c6c62e-b1d8-4a37-bfd5-13500ce2579c"
      },
      "execution_count": 4,
      "outputs": [
        {
          "output_type": "execute_result",
          "data": {
            "text/plain": [
              "tensor([ 0.5204, -0.8314,  0.4996,  1.2893,  0.1151,  0.0575, -1.3753, -0.9731,\n",
              "         0.1835,  0.4767, -0.1511,  0.3553,  0.2591, -0.7786,  0.5218,  0.4769,\n",
              "        -1.4251,  0.8580,  0.5982, -1.0903,  0.3357, -0.6089,  0.4174,  0.2157,\n",
              "        -0.0742, -0.5822, -0.4502,  0.1725,  0.1645, -0.3841,  2.3283, -0.6668,\n",
              "        -0.5818,  0.7439,  0.0950, -0.4787, -0.8459,  0.3870,  0.2369, -1.5523,\n",
              "         0.6480, -0.1652, -1.4719, -0.1622,  0.7986,  0.9739,  0.4003, -0.2191,\n",
              "        -0.3094,  0.2658])"
            ]
          },
          "metadata": {},
          "execution_count": 4
        }
      ]
    },
    {
      "cell_type": "markdown",
      "source": [
        "As we can see from the output above, the embedding of a given word is a torch tensor with dimension `(50,)`. We don't know what the meaning of each number is, but we do know that there are properties of the embeddings that can be observed. For example, `distances between embeddings` are meaningful.\n",
        "\n",
        "## Measuring Distance\n",
        "\n",
        "Let's consider one specific metric of distance between two embedding vectors called the **Euclidean distance**. The Euclidean distance of two vectors $x = [x_1, x_2, ... x_n]$ and\n",
        "$y = [y_1, y_2, ... y_n]$ is just the 2-norm of their difference $x - y$. We can compute\n",
        "the Euclidean distance between $x$ and $y$: $\\sqrt{\\sum_i (x_i - y_i)^2}$\n",
        "\n",
        "The PyTorch function `torch.norm` computes the 2-norm of a vector for us, so we\n",
        "can compute the Euclidean distance between two vectors like this:"
      ],
      "metadata": {
        "id": "GB-dyAZjvdKf"
      }
    },
    {
      "cell_type": "code",
      "source": [
        "x = glove['cat']\n",
        "y = glove['dog']\n",
        "torch.norm(y - x)"
      ],
      "metadata": {
        "colab": {
          "base_uri": "https://localhost:8080/"
        },
        "id": "4hvhg6S-vNjj",
        "outputId": "d551830c-66a2-45df-b970-f88674401f95"
      },
      "execution_count": 5,
      "outputs": [
        {
          "output_type": "execute_result",
          "data": {
            "text/plain": [
              "tensor(1.8846)"
            ]
          },
          "metadata": {},
          "execution_count": 5
        }
      ]
    },
    {
      "cell_type": "code",
      "source": [
        "a = glove['apple']\n",
        "b = glove['orange']\n",
        "torch.norm(b - a)"
      ],
      "metadata": {
        "colab": {
          "base_uri": "https://localhost:8080/"
        },
        "id": "_897mUSTwAwK",
        "outputId": "bded2c1d-71ac-4cfc-8e89-9677d9f45188"
      },
      "execution_count": 6,
      "outputs": [
        {
          "output_type": "execute_result",
          "data": {
            "text/plain": [
              "tensor(4.9094)"
            ]
          },
          "metadata": {},
          "execution_count": 6
        }
      ]
    },
    {
      "cell_type": "code",
      "source": [
        "torch.norm(glove['good'] - glove['bad'])"
      ],
      "metadata": {
        "colab": {
          "base_uri": "https://localhost:8080/"
        },
        "id": "6Z-zVh8CwMtd",
        "outputId": "4aa1dfb2-382e-4a36-cbfe-73f4258107de"
      },
      "execution_count": 7,
      "outputs": [
        {
          "output_type": "execute_result",
          "data": {
            "text/plain": [
              "tensor(3.3189)"
            ]
          },
          "metadata": {},
          "execution_count": 7
        }
      ]
    },
    {
      "cell_type": "code",
      "source": [
        "torch.norm(glove['good'] - glove['water'])"
      ],
      "metadata": {
        "colab": {
          "base_uri": "https://localhost:8080/"
        },
        "id": "kgfIIcTxwO99",
        "outputId": "036340d6-44f4-4b5d-ca07-d804c1304324"
      },
      "execution_count": 8,
      "outputs": [
        {
          "output_type": "execute_result",
          "data": {
            "text/plain": [
              "tensor(5.3390)"
            ]
          },
          "metadata": {},
          "execution_count": 8
        }
      ]
    },
    {
      "cell_type": "code",
      "source": [
        "torch.norm(glove['good'] - glove['well'])"
      ],
      "metadata": {
        "colab": {
          "base_uri": "https://localhost:8080/"
        },
        "id": "dZAQ64sNwRfK",
        "outputId": "89b35c1e-a1bb-4485-ad77-37dcb9e1c33e"
      },
      "execution_count": 9,
      "outputs": [
        {
          "output_type": "execute_result",
          "data": {
            "text/plain": [
              "tensor(2.7703)"
            ]
          },
          "metadata": {},
          "execution_count": 9
        }
      ]
    },
    {
      "cell_type": "code",
      "source": [
        "torch.norm(glove['good'] - glove['perfect'])"
      ],
      "metadata": {
        "colab": {
          "base_uri": "https://localhost:8080/"
        },
        "id": "mEdfGmh7wmN2",
        "outputId": "96a88eaf-e569-4469-851e-cf65b00d05e2"
      },
      "execution_count": 10,
      "outputs": [
        {
          "output_type": "execute_result",
          "data": {
            "text/plain": [
              "tensor(2.8834)"
            ]
          },
          "metadata": {},
          "execution_count": 10
        }
      ]
    },
    {
      "cell_type": "markdown",
      "source": [
        "## Cosine Similarity\n",
        "\n",
        "An alternative and more commonly-used measure of distance is the **Cosine Similarity**. The cosine similarity measures the *angle* between two vectors, and has the property that it only considers the *direction* of the vectors, not their the magnitudes. It is computed as follows for two vectors A and B:\n",
        "\n",
        "\n",
        "![picture](https://drive.google.com/uc?id=1hSaQRBjH828lx1xozJCA4F0ZhiX2S0Xt)"
      ],
      "metadata": {
        "id": "FwCYQe_XxLik"
      }
    },
    {
      "cell_type": "code",
      "source": [
        "#consider two vectors x and y\n",
        "#unsqueeze is used because cosine similarity wants at least 2-D inputs\n",
        "x = torch.tensor([1., 1., 1.]).unsqueeze(0)\n",
        "y = torch.tensor([2., 2., 2.]).unsqueeze(0)\n",
        "\n",
        "# Calculate the cosine similarity between x and y\n",
        "# Expect the cosine similarity to be 1.0 since x and y are in the same direction\n",
        "torch.cosine_similarity(x, y)"
      ],
      "metadata": {
        "colab": {
          "base_uri": "https://localhost:8080/"
        },
        "id": "cd8iVpD4wp28",
        "outputId": "1b3d0da1-20c2-476b-d337-7cf3aa4e47dc"
      },
      "execution_count": 11,
      "outputs": [
        {
          "output_type": "execute_result",
          "data": {
            "text/plain": [
              "tensor([1.0000])"
            ]
          },
          "metadata": {},
          "execution_count": 11
        }
      ]
    },
    {
      "cell_type": "markdown",
      "source": [
        "The cosine similarity is actually a *similarity* measure rather than a *distance* measure, and gives a result between -1 and 1. Thus, the larger the similarity, (closer to 1) the \"closer in meaning\" the word embeddings are to each other."
      ],
      "metadata": {
        "id": "-kAON3H92whE"
      }
    },
    {
      "cell_type": "code",
      "source": [
        "z = torch.tensor([-1., -1., -1.]).unsqueeze(0)\n",
        "\n",
        "# Calculate the cosine similarity between x and z\n",
        "# Expect the cosine similarity to be -1.0 since x and z point in the opposite \"direction\"\n",
        "torch.cosine_similarity(x, z)"
      ],
      "metadata": {
        "colab": {
          "base_uri": "https://localhost:8080/"
        },
        "id": "QNotYDzszo4h",
        "outputId": "c72f4c68-36e3-4a78-83cb-acb767f91c74"
      },
      "execution_count": 12,
      "outputs": [
        {
          "output_type": "execute_result",
          "data": {
            "text/plain": [
              "tensor([-1.0000])"
            ]
          },
          "metadata": {},
          "execution_count": 12
        }
      ]
    },
    {
      "cell_type": "code",
      "source": [
        "x = glove['cat']\n",
        "y = glove['dog']\n",
        "torch.cosine_similarity(x.unsqueeze(0), y.unsqueeze(0))"
      ],
      "metadata": {
        "colab": {
          "base_uri": "https://localhost:8080/"
        },
        "id": "CT_gUzm34S2V",
        "outputId": "26045439-457d-42c8-8ea3-244ad434dbd8"
      },
      "execution_count": 13,
      "outputs": [
        {
          "output_type": "execute_result",
          "data": {
            "text/plain": [
              "tensor([0.9218])"
            ]
          },
          "metadata": {},
          "execution_count": 13
        }
      ]
    },
    {
      "cell_type": "code",
      "source": [
        "a = glove['apple']\n",
        "b = glove['banana']\n",
        "torch.cosine_similarity(a.unsqueeze(0), b.unsqueeze(0))"
      ],
      "metadata": {
        "colab": {
          "base_uri": "https://localhost:8080/"
        },
        "id": "2BsgHFVF4W9_",
        "outputId": "7b95f249-1987-4e2c-e9af-81fa5fcdb562"
      },
      "execution_count": 14,
      "outputs": [
        {
          "output_type": "execute_result",
          "data": {
            "text/plain": [
              "tensor([0.5608])"
            ]
          },
          "metadata": {},
          "execution_count": 14
        }
      ]
    },
    {
      "cell_type": "code",
      "source": [
        "torch.cosine_similarity(glove['good'].unsqueeze(0),\n",
        "                        glove['bad'].unsqueeze(0))"
      ],
      "metadata": {
        "colab": {
          "base_uri": "https://localhost:8080/"
        },
        "id": "pF8vDFMg4adK",
        "outputId": "97dcb31a-a0cd-41b9-e8db-6b3dae69f860"
      },
      "execution_count": 15,
      "outputs": [
        {
          "output_type": "execute_result",
          "data": {
            "text/plain": [
              "tensor([0.7965])"
            ]
          },
          "metadata": {},
          "execution_count": 15
        }
      ]
    },
    {
      "cell_type": "code",
      "source": [
        "torch.cosine_similarity(glove['good'].unsqueeze(0),\n",
        "                        glove['water'].unsqueeze(0))"
      ],
      "metadata": {
        "colab": {
          "base_uri": "https://localhost:8080/"
        },
        "id": "WCTpK0304mXF",
        "outputId": "b30dc613-1bce-4b5b-ced8-8196839a0895"
      },
      "execution_count": 16,
      "outputs": [
        {
          "output_type": "execute_result",
          "data": {
            "text/plain": [
              "tensor([0.5540])"
            ]
          },
          "metadata": {},
          "execution_count": 16
        }
      ]
    },
    {
      "cell_type": "code",
      "source": [
        "torch.cosine_similarity(glove['good'].unsqueeze(0),\n",
        "                        glove['well'].unsqueeze(0))"
      ],
      "metadata": {
        "colab": {
          "base_uri": "https://localhost:8080/"
        },
        "id": "on933r1J4emF",
        "outputId": "942ac158-dc65-4c5b-c1dd-585ba76cea66"
      },
      "execution_count": 17,
      "outputs": [
        {
          "output_type": "execute_result",
          "data": {
            "text/plain": [
              "tensor([0.8511])"
            ]
          },
          "metadata": {},
          "execution_count": 17
        }
      ]
    },
    {
      "cell_type": "code",
      "source": [
        "torch.cosine_similarity(glove['good'].unsqueeze(0),\n",
        "                        glove['perfect'].unsqueeze(0))"
      ],
      "metadata": {
        "colab": {
          "base_uri": "https://localhost:8080/"
        },
        "id": "LIk0UjYx4kwR",
        "outputId": "f0b52af7-8f30-4093-c82a-8f5c64e9e878"
      },
      "execution_count": 18,
      "outputs": [
        {
          "output_type": "execute_result",
          "data": {
            "text/plain": [
              "tensor([0.8376])"
            ]
          },
          "metadata": {},
          "execution_count": 18
        }
      ]
    },
    {
      "cell_type": "code",
      "source": [
        "torch.cosine_similarity(glove['watermelon'].unsqueeze(0),\n",
        "                        glove['aeroplane'].unsqueeze(0))"
      ],
      "metadata": {
        "colab": {
          "base_uri": "https://localhost:8080/"
        },
        "id": "NrAwetzf4v77",
        "outputId": "94095964-b1da-4578-9fc0-bc54fc89f20b"
      },
      "execution_count": 19,
      "outputs": [
        {
          "output_type": "execute_result",
          "data": {
            "text/plain": [
              "tensor([-0.1102])"
            ]
          },
          "metadata": {},
          "execution_count": 19
        }
      ]
    },
    {
      "cell_type": "markdown",
      "source": [
        "Note: torch.cosine_similarity requires two dimensions to work, which is created with the unsqueeze option, illustrated in more detail below"
      ],
      "metadata": {
        "id": "GoYuQxTa5TwG"
      }
    },
    {
      "cell_type": "code",
      "source": [
        "x = glove['good']\n",
        "print(x.shape) # [50]\n",
        "y = x.unsqueeze(0) # [1, 50]\n",
        "print(y.shape)"
      ],
      "metadata": {
        "colab": {
          "base_uri": "https://localhost:8080/"
        },
        "id": "d4OFVPiU5TRv",
        "outputId": "46ac113f-2cf4-4f4d-8826-e3e005a6c08d"
      },
      "execution_count": 20,
      "outputs": [
        {
          "output_type": "stream",
          "name": "stdout",
          "text": [
            "torch.Size([50])\n",
            "torch.Size([1, 50])\n"
          ]
        }
      ]
    },
    {
      "cell_type": "markdown",
      "source": [
        "## Word Similarity\n",
        "\n",
        "Now that we have notions of distance and similarity in our embedding space, we can talk about words that are \"close\" to each other in the embedding space. For now, let's use Euclidean distances to look at how close various words are to the word \"cat\"."
      ],
      "metadata": {
        "id": "YR-6jQto5b8t"
      }
    },
    {
      "cell_type": "code",
      "source": [
        "word = 'cat'\n",
        "other = ['pet', 'dog', 'bike', 'kitten', 'puppy', 'kite', 'computer', 'neuron']\n",
        "for w in other:\n",
        "    dist = torch.norm(glove[word] - glove[w]) # euclidean distance\n",
        "    print(w, \"\\t%5.2f\" % float(dist))"
      ],
      "metadata": {
        "colab": {
          "base_uri": "https://localhost:8080/"
        },
        "id": "5wg_H1Bk48ZC",
        "outputId": "f9eea956-7b91-4c60-f6f3-9e7499d7f2c3"
      },
      "execution_count": 21,
      "outputs": [
        {
          "output_type": "stream",
          "name": "stdout",
          "text": [
            "pet \t 3.04\n",
            "dog \t 1.88\n",
            "bike \t 5.05\n",
            "kitten \t 3.51\n",
            "puppy \t 3.06\n",
            "kite \t 4.21\n",
            "computer \t 6.03\n",
            "neuron \t 6.23\n"
          ]
        }
      ]
    },
    {
      "cell_type": "markdown",
      "source": [
        "Let's do the same thing with cosine similarity:"
      ],
      "metadata": {
        "id": "NT2_dyt-6LZd"
      }
    },
    {
      "cell_type": "code",
      "source": [
        "word = 'cat'\n",
        "other = ['pet', 'dog', 'bike', 'kitten', 'puppy', 'kite', 'computer', 'neuron']\n",
        "for w in other:\n",
        "    dist = torch.cosine_similarity(glove[word].unsqueeze(0),glove[w].unsqueeze(0)) # cosine distance\n",
        "    print(w, \"\\t%5.2f\" % float(dist))"
      ],
      "metadata": {
        "colab": {
          "base_uri": "https://localhost:8080/"
        },
        "id": "jwBTNAz96AFg",
        "outputId": "d7943ff1-d005-4cdc-8fa4-33cf50dde6ed"
      },
      "execution_count": 22,
      "outputs": [
        {
          "output_type": "stream",
          "name": "stdout",
          "text": [
            "pet \t 0.78\n",
            "dog \t 0.92\n",
            "bike \t 0.44\n",
            "kitten \t 0.64\n",
            "puppy \t 0.76\n",
            "kite \t 0.49\n",
            "computer \t 0.35\n",
            "neuron \t 0.21\n"
          ]
        }
      ]
    },
    {
      "cell_type": "markdown",
      "source": [
        "We can look through the entire **vocabulary** for words that are closest to a point in the embedding space -- for example, we can look for words that are closest to another word such as \"cat\"."
      ],
      "metadata": {
        "id": "QumucClS6b8b"
      }
    },
    {
      "cell_type": "code",
      "source": [
        "def print_closest_words(vec, n=5):\n",
        "    dists = torch.norm(glove.vectors - vec, dim=1)     # compute distances to all words\n",
        "    lst = sorted(enumerate(dists.numpy()), key=lambda x: x[1]) # sort by distance\n",
        "    closest_words = []\n",
        "    for idx, difference in lst[1:n+1]:                         # take the top n\n",
        "        print(glove.itos[idx], \"\\t%5.2f\" % difference)\n",
        "        closest_words.append(glove.itos[idx])\n",
        "    return closest_words\n",
        "\n",
        "closest_words_to_cat = print_closest_words(glove[\"cat\"], n=10)"
      ],
      "metadata": {
        "colab": {
          "base_uri": "https://localhost:8080/"
        },
        "id": "6MxGErGA6O9h",
        "outputId": "3a3cbf4e-7d47-4d22-e2d8-bc4afc2d4579"
      },
      "execution_count": 23,
      "outputs": [
        {
          "output_type": "stream",
          "name": "stdout",
          "text": [
            "dog \t 1.88\n",
            "rabbit \t 2.46\n",
            "monkey \t 2.81\n",
            "cats \t 2.90\n",
            "rat \t 2.95\n",
            "beast \t 2.99\n",
            "monster \t 3.00\n",
            "pet \t 3.04\n",
            "snake \t 3.06\n",
            "puppy \t 3.06\n"
          ]
        }
      ]
    },
    {
      "cell_type": "code",
      "source": [
        "closest_words_to_dog = print_closest_words(glove['dog'])"
      ],
      "metadata": {
        "colab": {
          "base_uri": "https://localhost:8080/"
        },
        "id": "K6JQA84I6j4S",
        "outputId": "96db5802-6968-460c-8a96-89edde6d26f1"
      },
      "execution_count": 24,
      "outputs": [
        {
          "output_type": "stream",
          "name": "stdout",
          "text": [
            "cat \t 1.88\n",
            "dogs \t 2.65\n",
            "puppy \t 3.15\n",
            "rabbit \t 3.18\n",
            "pet \t 3.23\n"
          ]
        }
      ]
    },
    {
      "cell_type": "code",
      "source": [
        "closest_words_to_nurse = print_closest_words(glove['nurse'])"
      ],
      "metadata": {
        "colab": {
          "base_uri": "https://localhost:8080/"
        },
        "id": "mmQicawa8IL9",
        "outputId": "4c27fea2-c3c9-43fc-a882-acb37dcf1f34"
      },
      "execution_count": 25,
      "outputs": [
        {
          "output_type": "stream",
          "name": "stdout",
          "text": [
            "doctor \t 3.13\n",
            "dentist \t 3.13\n",
            "nurses \t 3.27\n",
            "pediatrician \t 3.32\n",
            "counselor \t 3.40\n"
          ]
        }
      ]
    },
    {
      "cell_type": "code",
      "source": [
        "closest_words_to_computer = print_closest_words(glove['computer'])"
      ],
      "metadata": {
        "colab": {
          "base_uri": "https://localhost:8080/"
        },
        "id": "AD3G-pMF8WjO",
        "outputId": "f8f1f39c-11c1-4fc8-ce2b-367d61b2624b"
      },
      "execution_count": 26,
      "outputs": [
        {
          "output_type": "stream",
          "name": "stdout",
          "text": [
            "computers \t 2.44\n",
            "software \t 2.93\n",
            "technology \t 3.19\n",
            "electronic \t 3.51\n",
            "computing \t 3.60\n"
          ]
        }
      ]
    },
    {
      "cell_type": "code",
      "source": [
        "#You can also try printing closest words to any other words of your choice here:\n",
        "\n"
      ],
      "metadata": {
        "id": "ThHIes6D8dJG"
      },
      "execution_count": 27,
      "outputs": []
    },
    {
      "cell_type": "markdown",
      "source": [
        "We could also look at which words are closest to the midpoints of two words:"
      ],
      "metadata": {
        "id": "yuDTCwCI90qq"
      }
    },
    {
      "cell_type": "code",
      "source": [
        "closest_to_mid_1 = print_closest_words((glove['happy'] + glove['sad']) / 2)"
      ],
      "metadata": {
        "colab": {
          "base_uri": "https://localhost:8080/"
        },
        "id": "PGusXTUB91R3",
        "outputId": "f8f175e4-03b7-4b0b-c157-19e3f55583c0"
      },
      "execution_count": 28,
      "outputs": [
        {
          "output_type": "stream",
          "name": "stdout",
          "text": [
            "happy \t 1.92\n",
            "feels \t 2.36\n",
            "sorry \t 2.50\n",
            "hardly \t 2.53\n",
            "imagine \t 2.57\n"
          ]
        }
      ]
    },
    {
      "cell_type": "code",
      "source": [
        "closest_to_mid_2 = print_closest_words((glove['lake'] + glove['building']) / 2)"
      ],
      "metadata": {
        "colab": {
          "base_uri": "https://localhost:8080/"
        },
        "id": "BV-ISeLA96js",
        "outputId": "5a1f78db-a8a6-4a62-b615-cd8087807093"
      },
      "execution_count": 29,
      "outputs": [
        {
          "output_type": "stream",
          "name": "stdout",
          "text": [
            "surrounding \t 3.07\n",
            "nearby \t 3.11\n",
            "bridge \t 3.16\n",
            "along \t 3.16\n",
            "shore \t 3.16\n"
          ]
        }
      ]
    },
    {
      "cell_type": "code",
      "source": [
        "closest_to_mid_3 = print_closest_words((glove['bravo'] + glove['michael']) / 2)"
      ],
      "metadata": {
        "colab": {
          "base_uri": "https://localhost:8080/"
        },
        "id": "4wo_X6Bp-cC4",
        "outputId": "74f1310e-cb9e-45b3-f5ed-b02a184ca12a"
      },
      "execution_count": 30,
      "outputs": [
        {
          "output_type": "stream",
          "name": "stdout",
          "text": [
            "farrell \t 2.80\n",
            "anderson \t 2.85\n",
            "jacobs \t 2.85\n",
            "boyle \t 2.86\n",
            "slater \t 2.87\n"
          ]
        }
      ]
    },
    {
      "cell_type": "markdown",
      "source": [
        "##1.1\n",
        "1.1.1 Write a new function, similar to print_closest_words called print_closest_cosine_words that prints out the N-most (where N is an input parameter) similar words using cosine similarity rather than euclidean distance.\n",
        "\n",
        "The documentation for the [sorted](https://python-reference.readthedocs.io/en/latest/docs/functions/sorted.html) method in python might help\n",
        "\n"
      ],
      "metadata": {
        "id": "qerwkoJVAL7q"
      }
    },
    {
      "cell_type": "code",
      "source": [
        "def print_closest_cosine_words(vec, n=5):\n",
        "  # TODO\n",
        "  sims = torch.cosine_similarity(glove.vectors, vec, dim=1)  # compute similarities to all words\n",
        "  lst =  sorted(enumerate(sims.numpy()), key=lambda x: x[1], reverse=True) # sort by similarity (descending order, remember higher similarity score, closer the word)\n",
        "  closest_words = []\n",
        "  # take the top n\n",
        "  for idx, similarity in lst[1:n+1]:\n",
        "    print(glove.itos[idx], \"\\t%5.2f\" % similarity)\n",
        "    closest_words.append(glove.itos[idx])\n",
        "  return closest_words"
      ],
      "metadata": {
        "id": "Q2KJmHdgAJkZ"
      },
      "execution_count": 31,
      "outputs": []
    },
    {
      "cell_type": "markdown",
      "source": [
        "1.1.2 Create a table that compares the 10-most cosine-similar words to the word 'dog', in order, alongside to the 10 closest"
      ],
      "metadata": {
        "id": "BVnUuCl1BL_e"
      }
    },
    {
      "cell_type": "code",
      "source": [
        "closest_euclidean_words = print_closest_words(glove['dog'], n=10)\n",
        "print(\"\\n\")\n",
        "closest_cosine_words = print_closest_cosine_words(glove['dog'], n=10)\n",
        "print(\"\\n\")\n",
        "table = pd.DataFrame()\n",
        "table[\"Euclidean\"] = closest_euclidean_words\n",
        "table[\"Cosine\"] = closest_cosine_words\n",
        "print(table)"
      ],
      "metadata": {
        "id": "2h4QDcObCtrO",
        "colab": {
          "base_uri": "https://localhost:8080/"
        },
        "outputId": "27202dc5-04bf-4d81-99ca-5a7433c634b7"
      },
      "execution_count": 34,
      "outputs": [
        {
          "output_type": "stream",
          "name": "stdout",
          "text": [
            "cat \t 1.88\n",
            "dogs \t 2.65\n",
            "puppy \t 3.15\n",
            "rabbit \t 3.18\n",
            "pet \t 3.23\n",
            "horse \t 3.25\n",
            "pig \t 3.39\n",
            "pack \t 3.43\n",
            "cats \t 3.44\n",
            "bite \t 3.46\n",
            "\n",
            "\n",
            "cat \t 0.92\n",
            "dogs \t 0.85\n",
            "horse \t 0.79\n",
            "puppy \t 0.78\n",
            "pet \t 0.77\n",
            "rabbit \t 0.77\n",
            "pig \t 0.75\n",
            "snake \t 0.74\n",
            "baby \t 0.74\n",
            "bite \t 0.74\n",
            "\n",
            "\n",
            "  Euclidean  Cosine\n",
            "0       cat     cat\n",
            "1      dogs    dogs\n",
            "2     puppy   horse\n",
            "3    rabbit   puppy\n",
            "4       pet     pet\n",
            "5     horse  rabbit\n",
            "6       pig     pig\n",
            "7      pack   snake\n",
            "8      cats    baby\n",
            "9      bite    bite\n"
          ]
        }
      ]
    },
    {
      "cell_type": "code",
      "source": [
        "# Compute the same table for word \"computer\"\n",
        "closest_euclidean_words = print_closest_words(glove['computer'], n=10)\n",
        "print(\"\\n\")\n",
        "closest_cosine_words = print_closest_cosine_words(glove['computer'], n=10)\n",
        "print(\"\\n\")\n",
        "table = pd.DataFrame()\n",
        "table[\"Euclidean\"] = closest_euclidean_words\n",
        "table[\"Cosine\"] = closest_cosine_words\n",
        "print(table)"
      ],
      "metadata": {
        "id": "ihkV86ACKU7E",
        "colab": {
          "base_uri": "https://localhost:8080/"
        },
        "outputId": "f58d752d-7af1-4c3c-c5be-183f0f6ed067"
      },
      "execution_count": 36,
      "outputs": [
        {
          "output_type": "stream",
          "name": "stdout",
          "text": [
            "computers \t 2.44\n",
            "software \t 2.93\n",
            "technology \t 3.19\n",
            "electronic \t 3.51\n",
            "computing \t 3.60\n",
            "devices \t 3.67\n",
            "hardware \t 3.68\n",
            "internet \t 3.69\n",
            "applications \t 3.69\n",
            "digital \t 3.70\n",
            "\n",
            "\n",
            "computers \t 0.92\n",
            "software \t 0.88\n",
            "technology \t 0.85\n",
            "electronic \t 0.81\n",
            "internet \t 0.81\n",
            "computing \t 0.80\n",
            "devices \t 0.80\n",
            "digital \t 0.80\n",
            "applications \t 0.79\n",
            "pc \t 0.79\n",
            "\n",
            "\n",
            "      Euclidean        Cosine\n",
            "0     computers     computers\n",
            "1      software      software\n",
            "2    technology    technology\n",
            "3    electronic    electronic\n",
            "4     computing      internet\n",
            "5       devices     computing\n",
            "6      hardware       devices\n",
            "7      internet       digital\n",
            "8  applications  applications\n",
            "9       digital            pc\n"
          ]
        }
      ]
    },
    {
      "cell_type": "markdown",
      "source": [
        "1.1.3 Looking at the two lists, does one of the metrics (cosine similarity or euclidean distance) seem to be better than the other?\n",
        "\n",
        "When we look at the closest words from both the metrics they are more or less the same. At this point, there is no clear better metric. Both seem to be selecting similar closest words\n"
      ],
      "metadata": {
        "id": "LlD-Aty8KhwJ"
      }
    },
    {
      "cell_type": "markdown",
      "source": [
        "## 1.2 Analogies\n",
        "\n",
        "One surprising aspect of word embeddings is that the *directions* in the embedding space can be meaningful. For example, some analogy-like relationships like this tend to hold:\n",
        "\n",
        "$$ king - man + woman \\approx queen $$\n",
        "\n",
        "Analogies show us how relationships between pairs of words that is captured in the learned vectors"
      ],
      "metadata": {
        "id": "F3D4X_Q0_uv7"
      }
    },
    {
      "cell_type": "code",
      "source": [
        "_ = print_closest_words(glove['king'] - glove['man'] + glove['woman'])"
      ],
      "metadata": {
        "colab": {
          "base_uri": "https://localhost:8080/"
        },
        "id": "rq_MVbTd-cwz",
        "outputId": "097e834f-fddb-4014-d2dc-c80102468305"
      },
      "execution_count": 38,
      "outputs": [
        {
          "output_type": "stream",
          "name": "stdout",
          "text": [
            "queen \t 2.84\n",
            "prince \t 3.66\n",
            "elizabeth \t 3.72\n",
            "daughter \t 3.83\n",
            "widow \t 3.85\n"
          ]
        }
      ]
    },
    {
      "cell_type": "markdown",
      "source": [
        "The top result is a reasonable answer like \"queen\",  and the name of the queen of england.\n",
        "\n",
        "We can flip the analogy around and it works:"
      ],
      "metadata": {
        "id": "SObT9dicM8R-"
      }
    },
    {
      "cell_type": "code",
      "source": [
        "_ = print_closest_words(glove['queen'] - glove['woman'] + glove['man'])"
      ],
      "metadata": {
        "colab": {
          "base_uri": "https://localhost:8080/"
        },
        "id": "HCOLWngBM-7O",
        "outputId": "2a6232d5-590f-4f0d-ef38-001a35be9595"
      },
      "execution_count": null,
      "outputs": [
        {
          "output_type": "stream",
          "name": "stdout",
          "text": [
            "king \t 2.84\n",
            "prince \t 3.25\n",
            "crown \t 3.45\n",
            "knight \t 3.56\n",
            "coronation \t 3.62\n"
          ]
        }
      ]
    },
    {
      "cell_type": "code",
      "source": [
        "_ = print_closest_words(glove['king'] - glove['prince'] + glove['princess'])"
      ],
      "metadata": {
        "colab": {
          "base_uri": "https://localhost:8080/"
        },
        "id": "5PbjuVO8M-0g",
        "outputId": "3fa7a8c8-feca-4244-f82b-492efac468d4"
      },
      "execution_count": null,
      "outputs": [
        {
          "output_type": "stream",
          "name": "stdout",
          "text": [
            "queen \t 3.18\n",
            "king \t 3.91\n",
            "bride \t 4.29\n",
            "lady \t 4.30\n",
            "sister \t 4.42\n"
          ]
        }
      ]
    },
    {
      "cell_type": "code",
      "source": [
        "_ = print_closest_words(glove['uncle'] - glove['man'] + glove['woman'])"
      ],
      "metadata": {
        "colab": {
          "base_uri": "https://localhost:8080/"
        },
        "id": "fxG-FQe5M-xT",
        "outputId": "86acba9e-5204-4215-c86f-00407dbd3784"
      },
      "execution_count": null,
      "outputs": [
        {
          "output_type": "stream",
          "name": "stdout",
          "text": [
            "grandmother \t 2.32\n",
            "aunt \t 2.35\n",
            "granddaughter \t 2.36\n",
            "daughter \t 2.40\n",
            "uncle \t 2.60\n"
          ]
        }
      ]
    },
    {
      "cell_type": "code",
      "source": [
        "_ = print_closest_words(glove['grandmother'] - glove['mother'] + glove['father'])"
      ],
      "metadata": {
        "colab": {
          "base_uri": "https://localhost:8080/"
        },
        "id": "zV2imC-lM-ue",
        "outputId": "8cb7dafa-b23c-4085-ce9b-689875a3fd11"
      },
      "execution_count": null,
      "outputs": [
        {
          "output_type": "stream",
          "name": "stdout",
          "text": [
            "uncle \t 2.08\n",
            "father \t 2.09\n",
            "grandson \t 2.30\n",
            "nephew \t 2.35\n",
            "elder \t 2.43\n"
          ]
        }
      ]
    },
    {
      "cell_type": "code",
      "source": [
        "_ = print_closest_words(glove['old'] - glove['young'] + glove['father'])"
      ],
      "metadata": {
        "colab": {
          "base_uri": "https://localhost:8080/"
        },
        "id": "q3SH9xXJLcD4",
        "outputId": "c31af617-8c26-4420-be83-aaece6b0f423"
      },
      "execution_count": null,
      "outputs": [
        {
          "output_type": "stream",
          "name": "stdout",
          "text": [
            "father \t 4.03\n",
            "son \t 4.41\n",
            "grandfather \t 4.52\n",
            "grandson \t 4.72\n",
            "daughter \t 4.79\n"
          ]
        }
      ]
    },
    {
      "cell_type": "markdown",
      "source": [
        "We can also move an embedding towards the direction of \"goodness\" or \"badness\":"
      ],
      "metadata": {
        "id": "5Y3xt9lmNle3"
      }
    },
    {
      "cell_type": "code",
      "source": [
        "_ = print_closest_words(glove['good'] - glove['bad'] + glove['programmer'])"
      ],
      "metadata": {
        "colab": {
          "base_uri": "https://localhost:8080/"
        },
        "id": "bZMiB3USNI_1",
        "outputId": "91031597-de31-4b7d-ed7d-09f3f9f6cbb2"
      },
      "execution_count": null,
      "outputs": [
        {
          "output_type": "stream",
          "name": "stdout",
          "text": [
            "versatile \t 4.38\n",
            "creative \t 4.57\n",
            "entrepreneur \t 4.63\n",
            "enables \t 4.72\n",
            "intelligent \t 4.73\n"
          ]
        }
      ]
    },
    {
      "cell_type": "code",
      "source": [
        "_ = print_closest_words(glove['bad'] - glove['good'] + glove['programmer'])"
      ],
      "metadata": {
        "colab": {
          "base_uri": "https://localhost:8080/"
        },
        "id": "vP_BSsCBNI8n",
        "outputId": "bd0ae51d-f0dd-4395-cb60-b7eafa2b07a9"
      },
      "execution_count": null,
      "outputs": [
        {
          "output_type": "stream",
          "name": "stdout",
          "text": [
            "hacker \t 3.84\n",
            "glitch \t 4.00\n",
            "originator \t 4.04\n",
            "hack \t 4.05\n",
            "serial \t 4.23\n"
          ]
        }
      ]
    },
    {
      "cell_type": "markdown",
      "source": [
        "1.2.1 Consider now the word pair relationships given in Figure 1 below, which comes from Table 1 of the Mikolov [[link](https://arxiv.org/abs/1301.3781)] paper. Choose one of these relationships, but not one of the ones already shown above, and report which one you chose. Write and run code that will generate the second word given the first word. Generate 10 more examples of the same relationship from 10 other words, and comment on the quality of the results.\n",
        "\n",
        "![picture](https://drive.google.com/uc?id=1O7Zizu63jj5aoZkGkK0sz93CZSEsBDuW)\n",
        "\n"
      ],
      "metadata": {
        "id": "CJjQLdz_OAuH"
      }
    },
    {
      "cell_type": "code",
      "source": [
        "# TODO\n",
        "# Choose one of the relationships from the table above and generate 10 examples\n",
        "_ = print_closest_words(glove['athens'] - glove['city'] + glove['country'])\n",
        "print(\"\\n\")\n",
        "_ = print_closest_words(glove['chicago'] - glove['city'] + glove['state'])\n",
        "print(\"\\n\")"
      ],
      "metadata": {
        "id": "XgvVPnEvNI5O",
        "colab": {
          "base_uri": "https://localhost:8080/"
        },
        "outputId": "6c733039-c179-494e-8948-41eeacd9e75a"
      },
      "execution_count": 71,
      "outputs": [
        {
          "output_type": "stream",
          "name": "stdout",
          "text": [
            "greece \t 7.59\n",
            "country \t 8.01\n",
            "cyprus \t 8.82\n",
            "greek \t 9.00\n",
            "warned \t 9.11\n",
            "\n",
            "\n",
            "chicago \t 7.81\n",
            "illinois \t 8.00\n",
            "arizona \t 8.04\n",
            "michigan \t 8.13\n",
            "minnesota \t 8.23\n",
            "\n",
            "\n"
          ]
        }
      ]
    },
    {
      "cell_type": "markdown",
      "source": [
        "## 1.3 Change Embedding Dimension\n",
        "Now we change the embedding dimension (also known as the vector size) from 50 to 300 and re-run all the examples from above including the new cosini similarity function. Answer the following questions:\n",
        "1.   How does the euclidean distance change between the various words when switching from d=50 to d=300?\n",
        "2.   How does the cosine similarity change?\n",
        "3.   Does the ordering of nearness change?\n",
        "4.   Is it clear that the larger size vectors give better results - why or why not?\n",
        "\n"
      ],
      "metadata": {
        "id": "BhGfRBpRTe05"
      }
    },
    {
      "cell_type": "code",
      "source": [
        "# The first time you run this will download a ~862MB file\n",
        "glove = GloVe(name=\"6B\", # trained on Wikipedia 2014 corpus\n",
        "              dim=300)  # embedding size = 300"
      ],
      "metadata": {
        "colab": {
          "base_uri": "https://localhost:8080/"
        },
        "id": "3sYqu2QsUcFM",
        "outputId": "c1810a52-f3d3-402e-85be-f2cca5f74a56"
      },
      "execution_count": 52,
      "outputs": [
        {
          "output_type": "stream",
          "name": "stderr",
          "text": [
            "100%|█████████▉| 399999/400000 [01:18<00:00, 5111.58it/s]\n"
          ]
        }
      ]
    },
    {
      "cell_type": "markdown",
      "source": [
        "Let's check the euclidean distances for embedding dimension of 300"
      ],
      "metadata": {
        "id": "un7HEyyWXgJT"
      }
    },
    {
      "cell_type": "code",
      "source": [
        "x = glove['cat']\n",
        "y = glove['dog']\n",
        "torch.norm(y - x)"
      ],
      "metadata": {
        "colab": {
          "base_uri": "https://localhost:8080/"
        },
        "id": "tUI6RtqFV3mj",
        "outputId": "8c59f583-929e-4669-fd2a-bc95a7c9f35b"
      },
      "execution_count": 53,
      "outputs": [
        {
          "output_type": "execute_result",
          "data": {
            "text/plain": [
              "tensor(5.1959)"
            ]
          },
          "metadata": {},
          "execution_count": 53
        }
      ]
    },
    {
      "cell_type": "code",
      "source": [
        "a = glove['apple']\n",
        "b = glove['orange']\n",
        "torch.norm(b - a)"
      ],
      "metadata": {
        "colab": {
          "base_uri": "https://localhost:8080/"
        },
        "id": "GGorX_x-XKf6",
        "outputId": "87c5fb92-e603-45f5-a7b6-5d6ca897cd48"
      },
      "execution_count": 54,
      "outputs": [
        {
          "output_type": "execute_result",
          "data": {
            "text/plain": [
              "tensor(8.1147)"
            ]
          },
          "metadata": {},
          "execution_count": 54
        }
      ]
    },
    {
      "cell_type": "code",
      "source": [
        "torch.norm(glove['good'] - glove['bad'])"
      ],
      "metadata": {
        "colab": {
          "base_uri": "https://localhost:8080/"
        },
        "id": "8WUnfsbQXMqi",
        "outputId": "068eeae4-3290-4c95-f050-1a1174e08b5d"
      },
      "execution_count": 55,
      "outputs": [
        {
          "output_type": "execute_result",
          "data": {
            "text/plain": [
              "tensor(4.8563)"
            ]
          },
          "metadata": {},
          "execution_count": 55
        }
      ]
    },
    {
      "cell_type": "code",
      "source": [
        "torch.norm(glove['good'] - glove['water'])"
      ],
      "metadata": {
        "colab": {
          "base_uri": "https://localhost:8080/"
        },
        "id": "9WZZVevuXPDf",
        "outputId": "ba20b497-0dbf-4dfa-8354-d7532bb41a14"
      },
      "execution_count": 56,
      "outputs": [
        {
          "output_type": "execute_result",
          "data": {
            "text/plain": [
              "tensor(7.5312)"
            ]
          },
          "metadata": {},
          "execution_count": 56
        }
      ]
    },
    {
      "cell_type": "code",
      "source": [
        "torch.norm(glove['good'] - glove['well'])"
      ],
      "metadata": {
        "colab": {
          "base_uri": "https://localhost:8080/"
        },
        "id": "-KTyY1QdXQna",
        "outputId": "6fe9633a-1556-4611-c20e-d18afa520072"
      },
      "execution_count": 57,
      "outputs": [
        {
          "output_type": "execute_result",
          "data": {
            "text/plain": [
              "tensor(4.0593)"
            ]
          },
          "metadata": {},
          "execution_count": 57
        }
      ]
    },
    {
      "cell_type": "code",
      "source": [
        "torch.norm(glove['good'] - glove['perfect'])"
      ],
      "metadata": {
        "colab": {
          "base_uri": "https://localhost:8080/"
        },
        "id": "WjbzYjY2XTiy",
        "outputId": "22ddc584-081d-4623-b8f5-62ae0ad0e231"
      },
      "execution_count": 58,
      "outputs": [
        {
          "output_type": "execute_result",
          "data": {
            "text/plain": [
              "tensor(5.2142)"
            ]
          },
          "metadata": {},
          "execution_count": 58
        }
      ]
    },
    {
      "cell_type": "markdown",
      "source": [
        "1.3.1 Compare to the euclidean distances from above (embedding dimension of 50) and answer question 1. How does the euclidean distance change between the various words when switching from d=50 to d=300?\n",
        "\n",
        "Answer: The distances increase. For example the distance between good and bad was 3.31 but now it is 4.85."
      ],
      "metadata": {
        "id": "O5mqAc4oXsPF"
      }
    },
    {
      "cell_type": "markdown",
      "source": [
        "Next, lets look at cosine similarity with embedding dimension 300"
      ],
      "metadata": {
        "id": "sF6JaGB5ZzZc"
      }
    },
    {
      "cell_type": "code",
      "source": [
        "x = glove['cat']\n",
        "y = glove['dog']\n",
        "torch.cosine_similarity(x.unsqueeze(0), y.unsqueeze(0))"
      ],
      "metadata": {
        "id": "4YQNQ7uhXVh2",
        "colab": {
          "base_uri": "https://localhost:8080/"
        },
        "outputId": "c7495f55-9aad-499b-bbd0-5a7545b032fb"
      },
      "execution_count": 59,
      "outputs": [
        {
          "output_type": "execute_result",
          "data": {
            "text/plain": [
              "tensor([0.6817])"
            ]
          },
          "metadata": {},
          "execution_count": 59
        }
      ]
    },
    {
      "cell_type": "code",
      "source": [
        "a = glove['apple']\n",
        "b = glove['banana']\n",
        "torch.cosine_similarity(a.unsqueeze(0), b.unsqueeze(0))"
      ],
      "metadata": {
        "id": "-2Du66czYvZ_",
        "colab": {
          "base_uri": "https://localhost:8080/"
        },
        "outputId": "0d8e96e3-eff7-4d42-97e3-0b9d2a1c16aa"
      },
      "execution_count": 60,
      "outputs": [
        {
          "output_type": "execute_result",
          "data": {
            "text/plain": [
              "tensor([0.3924])"
            ]
          },
          "metadata": {},
          "execution_count": 60
        }
      ]
    },
    {
      "cell_type": "code",
      "source": [
        "torch.cosine_similarity(glove['good'].unsqueeze(0),\n",
        "                        glove['bad'].unsqueeze(0))"
      ],
      "metadata": {
        "id": "lq8JNUnXYvXE",
        "colab": {
          "base_uri": "https://localhost:8080/"
        },
        "outputId": "eb777a3e-1df4-4509-f47e-fd8b3154527e"
      },
      "execution_count": 61,
      "outputs": [
        {
          "output_type": "execute_result",
          "data": {
            "text/plain": [
              "tensor([0.6445])"
            ]
          },
          "metadata": {},
          "execution_count": 61
        }
      ]
    },
    {
      "cell_type": "code",
      "source": [
        "torch.cosine_similarity(glove['good'].unsqueeze(0),\n",
        "                        glove['water'].unsqueeze(0))"
      ],
      "metadata": {
        "id": "cyx_hox3ZMJz",
        "colab": {
          "base_uri": "https://localhost:8080/"
        },
        "outputId": "7bcc3976-37a9-49ce-b89c-01a48754b969"
      },
      "execution_count": 62,
      "outputs": [
        {
          "output_type": "execute_result",
          "data": {
            "text/plain": [
              "tensor([0.3373])"
            ]
          },
          "metadata": {},
          "execution_count": 62
        }
      ]
    },
    {
      "cell_type": "code",
      "source": [
        "torch.cosine_similarity(glove['good'].unsqueeze(0),\n",
        "                        glove['well'].unsqueeze(0))"
      ],
      "metadata": {
        "id": "TskeONmiYvT_",
        "colab": {
          "base_uri": "https://localhost:8080/"
        },
        "outputId": "1163d0cb-759d-4e23-b11e-b8612d702d62"
      },
      "execution_count": 63,
      "outputs": [
        {
          "output_type": "execute_result",
          "data": {
            "text/plain": [
              "tensor([0.7046])"
            ]
          },
          "metadata": {},
          "execution_count": 63
        }
      ]
    },
    {
      "cell_type": "code",
      "source": [
        "torch.cosine_similarity(glove['good'].unsqueeze(0),\n",
        "                        glove['perfect'].unsqueeze(0))"
      ],
      "metadata": {
        "id": "xdymOV33Y0g0",
        "colab": {
          "base_uri": "https://localhost:8080/"
        },
        "outputId": "0571f2bb-723e-4974-ec2b-b5a79309765c"
      },
      "execution_count": 64,
      "outputs": [
        {
          "output_type": "execute_result",
          "data": {
            "text/plain": [
              "tensor([0.5893])"
            ]
          },
          "metadata": {},
          "execution_count": 64
        }
      ]
    },
    {
      "cell_type": "code",
      "source": [
        "torch.cosine_similarity(glove['watermelon'].unsqueeze(0),\n",
        "                        glove['aeroplane'].unsqueeze(0))"
      ],
      "metadata": {
        "id": "Y4zmxiCsZPKR",
        "colab": {
          "base_uri": "https://localhost:8080/"
        },
        "outputId": "321437f5-28fd-4577-b798-28090eb3694f"
      },
      "execution_count": 65,
      "outputs": [
        {
          "output_type": "execute_result",
          "data": {
            "text/plain": [
              "tensor([0.0955])"
            ]
          },
          "metadata": {},
          "execution_count": 65
        }
      ]
    },
    {
      "cell_type": "markdown",
      "source": [
        "1.3.2 Compare to the cosine similarities from above (embedding dimension of 50) and answer question 2. How does the cosine similarity change when switching from d=50 to d=300?\n",
        "\n",
        "Answer: The cosine similarities values are lower when compared to the embedding dimension of 50"
      ],
      "metadata": {
        "id": "0BXhKAJKZXGj"
      }
    },
    {
      "cell_type": "markdown",
      "source": [
        "Next, we will look at the nearness of words"
      ],
      "metadata": {
        "id": "yG6phX-gZw9-"
      }
    },
    {
      "cell_type": "code",
      "source": [
        "closest_euclidean_words = print_closest_words(glove['dog'])\n",
        "closest_cosine_words = print_closest_cosine_words(glove['dog'])\n",
        "table = pd.DataFrame()\n",
        "table[\"Euclidean\"] = closest_euclidean_words\n",
        "table[\"Cosine\"] = closest_cosine_words\n",
        "print(table)"
      ],
      "metadata": {
        "id": "UvmbvMpsZWx4",
        "colab": {
          "base_uri": "https://localhost:8080/"
        },
        "outputId": "c260a363-78f7-412e-ed54-2389ac32f275"
      },
      "execution_count": 67,
      "outputs": [
        {
          "output_type": "stream",
          "name": "stdout",
          "text": [
            "dogs \t 4.36\n",
            "cat \t 5.20\n",
            "pet \t 5.70\n",
            "puppy \t 5.86\n",
            "hound \t 6.22\n",
            "dogs \t 0.79\n",
            "cat \t 0.68\n",
            "pet \t 0.63\n",
            "puppy \t 0.59\n",
            "hound \t 0.55\n",
            "  Euclidean Cosine\n",
            "0      dogs   dogs\n",
            "1       cat    cat\n",
            "2       pet    pet\n",
            "3     puppy  puppy\n",
            "4     hound  hound\n"
          ]
        }
      ]
    },
    {
      "cell_type": "markdown",
      "source": [
        "1.3.3 Compare to the near words from above (embedding dimension of 50) and answer question 3. Does the ordering of nearness words change?\n",
        "\n",
        "Answer: Yes, the ordering changes dogs is now higher than cat, pet is also higher than before."
      ],
      "metadata": {
        "id": "XPaBRJ5laDoH"
      }
    },
    {
      "cell_type": "markdown",
      "source": [
        "1.3.4 Is it clear that the larger size vectors give better results - why or why not?\n",
        "\n",
        "Answer: THe larger size is giving us better results (not by much in this example), but there is an improvement. \"dogs\" is now the closest to dog rather than cat which was before. \"hound\" also makes it to the top 5 list which is intuitively closer to dog than rabbit or horse which were included first. \\\\\n",
        "In general, larger embeddings (e.g., 300 dimensions vs. 50 dimensions) have the potential to capture more nuanced semantic relationships between words. This can lead to better performance on tasks requiring a deep understanding of word meanings and contexts. It is important to note that while increasing the embedding size can improve performance, the gains may diminish beyond a certain point. For instance, the improvement from 50 to 300 dimensions might be substantial, but the improvement from 200 to 300 dimensions might be marginal."
      ],
      "metadata": {
        "id": "LvGCAct7aWhC"
      }
    },
    {
      "cell_type": "markdown",
      "source": [
        "# 2. (Optional): Computing Meaning from Word Embeddings\n",
        "\n",
        "Now that we’ve seen some of the power of word embeddings, we can also feel the frustration that the individual elements/numbers in each word vector do not have a meaning that can be interpreted or understood by humans. It would have preferable that each position in the vector correspond to a specific axis of meaning that we can understand based on our ability to comprehend language.\n",
        "\n",
        "For example the \"amount\" the word related to *colour* or *temperature* or *politics*. This is not the case, because the numbers are the result of an optmization process that does not drive each vector element toward human-understandable meaning.\n",
        "\n",
        "We can, however, make use of the methods shown in Section 1 above to measure the amount of meaning in specific categories of our choosing, such as colour. Suppose that we want to know how much a particular word/embedding relates to colour. One way to measure that could be to determine the cosine similarity between the word embedding for colour and the word of interest. We might expect that a word like ‘sky’ or ‘grass’ might have elements of colour in it, and that ‘purple’ would have more. However, it may also be true that there are multiple meanings to a single word, such as ‘colour’, and so it might be better to define a category of meaning by using several words that, all together, define it with more precision.\n",
        "\n",
        "For example, a way to define a category such as colour would be to use that word itself, and to- gether with several examples, such ‘red’, ‘green’, ‘blue’, ‘yellow.’ Then, to measure the “amount” of colour in a specific word (like ‘sky’) you could compute the average cosine similarity between sky and each of the words in the category. Alternatively, you could average the vectors of all the words in the category, and compute the cosine similarity between the embedding of sky and that average embedding. In this section, use the d=50 GlOVe embeddings that you used in Section 1.\n",
        "\n"
      ],
      "metadata": {
        "id": "B7KhVUtzaJNO"
      }
    },
    {
      "cell_type": "code",
      "source": [
        "# Load GloVe embeddings using torchtext\n",
        "glove = GloVe(name='6B', dim=50)\n",
        "embedding_size = 50  # Size of GloVe embeddings"
      ],
      "metadata": {
        "id": "2VyMjlrdunHu"
      },
      "execution_count": 93,
      "outputs": []
    },
    {
      "cell_type": "markdown",
      "source": [
        "##2.1\n",
        "Write a PyTorch-based function called compare words to category that takes as input:\n",
        "* The meaning category given by a set of words (as discussed above) that describe the category, and\n",
        "* A given word to ‘measure’ against that category.\n",
        "\n",
        "\n",
        "The function should compute the cosine similarity of the given word in the category in two ways: \\\\\n",
        "(a) By averaging the cosine similarity of the given word with every word in the category, and \\\\\n",
        "(b) By computing the cosine similarity of the word with the average embedding of all of the words in the category."
      ],
      "metadata": {
        "id": "pEzXXUcbrmyD"
      }
    },
    {
      "cell_type": "code",
      "source": [
        "# Function to convert a word to its embedding\n",
        "def word_to_embedding(word, glove):\n",
        "    if word in glove.stoi:\n",
        "        return glove[word]\n",
        "    else:\n",
        "        return torch.zeros(embedding_size)\n",
        "\n",
        "def compare_words_to_category(word, category_words, glove):\n",
        "    word_embedding = word_to_embedding(word, glove).unsqueeze(0)\n",
        "    category_embeddings = torch.stack([word_to_embedding(w, glove) for w in category_words])\n",
        "\n",
        "    # Method (a): Average cosine similarity of the given word with every word in the category\n",
        "    cosine_similarities = torch.cosine_similarity(word_embedding, category_embeddings, dim=1) # TODO\n",
        "    avg_cosine_similarity = cosine_similarities.mean().item()\n",
        "\n",
        "    # Method (b): Cosine similarity of the word with the average embedding of the category words\n",
        "    avg_category_embedding = category_embeddings.mean(dim=0, keepdim=True) # TODO\n",
        "    avg_category_cosine_similarity = torch.cosine_similarity(word_embedding, avg_category_embedding).item()\n",
        "\n",
        "    return avg_cosine_similarity, avg_category_cosine_similarity"
      ],
      "metadata": {
        "id": "_9nVGRP5rBGk"
      },
      "execution_count": 94,
      "outputs": []
    },
    {
      "cell_type": "markdown",
      "source": [
        "##2.2\n",
        "Let’s define the colour meaning category using these words: “colour”, “red”, “green”, “blue”, “yellow.” Compute the similarity (using both methods (a) and (b) above) for each of these words: “greenhouse”, “sky”, “grass”, “purple”, “scissors”, “microphone”, “president” and present them in a table."
      ],
      "metadata": {
        "id": "mwXCdy1LtD2v"
      }
    },
    {
      "cell_type": "code",
      "source": [
        "category_words = [\"colour\", \"red\", \"green\", \"blue\", \"yellow\"]\n",
        "words_to_measure = [\"greenhouse\", \"sky\", \"grass\", \"purple\", \"scissors\",\n",
        "                    \"microphone\", \"president\"]\n",
        "\n",
        "results = []\n",
        "for word in words_to_measure:\n",
        "    avg_cosine_similarity, avg_category_cosine_similarity = compare_words_to_category(word, category_words, glove) # TODO\n",
        "    results.append((word, avg_cosine_similarity, avg_category_cosine_similarity))\n",
        "\n",
        "# Create a DataFrame to present the results in a table\n",
        "df_results = pd.DataFrame(results, columns=[\"Word\", \"Avg Cosine Similarity\", \"Cosine Similarity with Avg Embedding\"])\n",
        "print(df_results)"
      ],
      "metadata": {
        "id": "ZYMC0BtltHFd",
        "colab": {
          "base_uri": "https://localhost:8080/"
        },
        "outputId": "2555de8c-a1a8-438f-9dc6-1e228e2379dd"
      },
      "execution_count": 96,
      "outputs": [
        {
          "output_type": "stream",
          "name": "stdout",
          "text": [
            "         Word  Avg Cosine Similarity  Cosine Similarity with Avg Embedding\n",
            "0  greenhouse               0.183072                              0.201687\n",
            "1         sky               0.601871                              0.670239\n",
            "2       grass               0.506045                              0.557923\n",
            "3      purple               0.799313                              0.888739\n",
            "4    scissors               0.289022                              0.320292\n",
            "5  microphone               0.307690                              0.343096\n",
            "6   president               0.298648                              0.329170\n"
          ]
        }
      ]
    },
    {
      "cell_type": "markdown",
      "source": [
        "2.2.1 Do the results for each method make sense? Why or why not? What is the apparent difference between method 1 and 2?\n",
        "\n",
        "Answer: \\\\\n",
        "Method 1: Average Cosine Similarity with Every Word in the Category\\\\\n",
        "This method calculates the cosine similarity of the given word with each word in the category and then averages these similarities. It reflects how the given word is similar to each individual word in the category.\n",
        "\n",
        "Method 2: Cosine Similarity with the Average Embedding of the Category Words \\\\\n",
        "This method calculates the average embedding of the category words and then computes the cosine similarity between the given word and this average embedding. It reflects how the given word is similar to the overall concept represented by the category.\n",
        "\n",
        "\"Purple\" has very high similarity in both methods because it is directly a color.\n",
        "\n",
        "\"President\" shows low similarity, which is expected as it is not related to colors."
      ],
      "metadata": {
        "id": "KFc9BntQubV0"
      }
    },
    {
      "cell_type": "markdown",
      "source": [
        "# 3. Training A Word Embedding Using the Skip-Gram Method on a Small Corpus\n",
        "\n",
        "So far in this notebook we've used the pre-trained GloVe embeddings. The lecture this morning described the Skip Gram method of training word embeddings. In this section you are going to review code to use that method to train a very small embedding, for a very small vocabulary on a very small corpus of text. The goal is to gain some insight into the general notion of how embeddings are produced. The corpus you are going to use is in the file SmallSimpleCorpus.txt, and was also shown in the lecture.\n",
        "\n",
        "NOTE: First we need to upload the file SmallSimpleCorpus.txt to the Colab environment. Download the data files from lab_5_1 folder on the github page and then navigate to the folder icon on the left hand side of this page and click the \"upload to session storage\" button to upload the data files to the colab session."
      ],
      "metadata": {
        "id": "moAuiKpZazXQ"
      }
    },
    {
      "cell_type": "code",
      "source": [
        "import numpy as np\n",
        "import torch\n",
        "import torch.nn as nn\n",
        "import torch.optim as optim\n",
        "import spacy"
      ],
      "metadata": {
        "id": "whMJrpncbpAV"
      },
      "execution_count": 72,
      "outputs": []
    },
    {
      "cell_type": "code",
      "source": [
        "# Load SpaCy's English language model\n",
        "nlp = spacy.load(\"en_core_web_sm\")"
      ],
      "metadata": {
        "id": "vPGnmHKPnvEJ"
      },
      "execution_count": 73,
      "outputs": []
    },
    {
      "cell_type": "markdown",
      "source": [
        "First, read the file SmallSimpleCorpus.txt so that you see what the sequence of sentences is. Recalling the notion “you shall know a word by the company it keeps,” find three pairs of words that this corpora implies have similar or related meanings. For example, ‘he’ and ‘she’ are one such example – which you cannot use in your answer!\n",
        "\n",
        "Answer: a-the, rub-hold, dog-cat"
      ],
      "metadata": {
        "id": "tzqJDqfqn1uJ"
      }
    },
    {
      "cell_type": "code",
      "source": [
        "# Upload the file to colab and read in the corpus\n",
        "with open('./SmallSimpleCorpus.txt', 'r') as file:\n",
        "    corpus = file.read()\n",
        "\n",
        "# Preprocess the text\n",
        "def prepare_texts(corpus):\n",
        "    doc = nlp(corpus)\n",
        "    lemmas = [token.lemma_ for token in doc if token.is_alpha]\n",
        "    return lemmas"
      ],
      "metadata": {
        "id": "91-JsD1_oNex"
      },
      "execution_count": 75,
      "outputs": []
    },
    {
      "cell_type": "markdown",
      "source": [
        "Read the prepare_texts function in the code given to you fulfills several key functions in text processing, a little bit simplified for this simple corpus. Rather than full tokenization it only lemmatizes the corpus,\n",
        "which means converting words to their root - for example the word “holds” becomes “hold”, whereas the word  “hold” itself stays the same.\n",
        "The prepare_texts function performs lemmatization using the [spaCy](https://spacy.io/models/en) library.\n",
        "Review the code of prepare_texts to make sure you understand what it is doing. Review the code that reads the corpus SmallSimpleCorpus.txt, and run the prepare_texts on it to return the text (lemmas) that will be used next.\n"
      ],
      "metadata": {
        "id": "zXaIvfftowCX"
      }
    },
    {
      "cell_type": "code",
      "source": [
        "#lematize the corpus and create the vocabulary\n",
        "lemmas = prepare_texts(corpus) #TODO\n",
        "vocab = set(lemmas)\n",
        "v2i = {v: i for i, v in enumerate(vocab)} # dictionary to lookup word to index\n",
        "i2v = {i: v for v, i in v2i.items()} # dictionary to lookup index to word"
      ],
      "metadata": {
        "id": "_kljxBXuoPxk"
      },
      "execution_count": 76,
      "outputs": []
    },
    {
      "cell_type": "markdown",
      "source": [
        "Check that the vocabulary size is 11. \\\\\n",
        "\n",
        "What purpose do the v2i and i2v dictionaries serve?\n",
        "Answer: v2i helps us to lookup the index of every word and i2v helps us lookup the word given it's index"
      ],
      "metadata": {
        "id": "jP-g4libpqa_"
      }
    },
    {
      "cell_type": "code",
      "source": [
        "#TODO\n",
        "len(vocab)"
      ],
      "metadata": {
        "id": "N1-zfe8TpvQS",
        "colab": {
          "base_uri": "https://localhost:8080/"
        },
        "outputId": "e8a5e574-63c0-4717-825b-93b36ec5fc74"
      },
      "execution_count": 77,
      "outputs": [
        {
          "output_type": "execute_result",
          "data": {
            "text/plain": [
              "11"
            ]
          },
          "metadata": {},
          "execution_count": 77
        }
      ]
    },
    {
      "cell_type": "markdown",
      "source": [
        "The function `tokenize_and_preprocess_text` takes the lemmatized small corpus as input, along with `v2i` (which serves as a simple, lemma-based tokenizer) and a window size window. Its output should be the Skip Gram training dataset for this corpus: pairs of words in the corpus that “belong” together, in the Skip Gram sense.\n",
        "That is, for every word in the corpus a set of training examples are generated with that word serving as the (target) input to the predictor,\n",
        "and all the words that fit within a window of size window surrounding the word would be predicted to be in the “context” of the given word.\n",
        "The words are expressed as tokens (numbers).\n",
        " Add a little code so that you can see the dataset that is produced."
      ],
      "metadata": {
        "id": "66Ois3z7qS9i"
      }
    },
    {
      "cell_type": "code",
      "source": [
        "# Tokenize and preprocess the text\n",
        "def tokenize_and_preprocess_text(lemmas, v2i, window=3):\n",
        "    data = []\n",
        "    for i in range(len(lemmas)):\n",
        "        target = v2i[lemmas[i]]\n",
        "        context = []\n",
        "        for j in range(i - window // 2, i + window // 2 + 1):\n",
        "            if j != i and j >= 0 and j < len(lemmas):\n",
        "                context.append(v2i[lemmas[j]])\n",
        "        for c in context:\n",
        "            data.append((target, c))\n",
        "    return data"
      ],
      "metadata": {
        "id": "52WgB7prqPIY"
      },
      "execution_count": 78,
      "outputs": []
    },
    {
      "cell_type": "code",
      "source": [
        "# Create the Skip gram dataset with window size of 5\n",
        "window_size = 5# TODO\n",
        "data = tokenize_and_preprocess_text(lemmas, v2i, window_size)# TODO\n"
      ],
      "metadata": {
        "id": "KOZ_-mqYqQNF"
      },
      "execution_count": 79,
      "outputs": []
    },
    {
      "cell_type": "markdown",
      "source": [
        "Review the code in Word2vecModel. Part of this model ultimately provides the trained embeddings/vectors, and you can see these are defined and initialized to random numbers in the line `self.embedding = torch.nn.Parameter(torch.rand(\n",
        "            vocab_size, embedding_size))`"
      ],
      "metadata": {
        "id": "cyQIHdXssbI0"
      }
    },
    {
      "cell_type": "code",
      "source": [
        "# The Word2Vec model\n",
        "class Word2VecModel(nn.Module):\n",
        "    def __init__(self, vocab_size, embedding_size):\n",
        "        super(Word2VecModel, self).__init__()\n",
        "        self.embedding = torch.nn.Parameter(torch.rand(\n",
        "            vocab_size, embedding_size))\n",
        "        self.fc = nn.Linear(embedding_size, vocab_size)\n",
        "\n",
        "    def forward(self, x):\n",
        "        x = self.embedding[x]\n",
        "        x = self.fc(x)\n",
        "        return x"
      ],
      "metadata": {
        "id": "tUti3LGZsZLH"
      },
      "execution_count": 80,
      "outputs": []
    },
    {
      "cell_type": "code",
      "source": [
        "# Set the vocab size\n",
        "vocab_size = len(vocab) # TODO\n",
        "embedding_size = 2 # Size of the embedding vector\n",
        "# Initialize the Word2Vec model\n",
        "model = Word2VecModel(vocab_size, embedding_size) # TODO"
      ],
      "metadata": {
        "id": "1SrHFoHns34Z"
      },
      "execution_count": 81,
      "outputs": []
    },
    {
      "cell_type": "markdown",
      "source": [
        "Review the code for training the model. It uses Cross Entropy loss function described in the lecture, a batch size of 4, a window size of 5, and 50 Epochs of training. It uses the Adam optimizer, and a learning rate of 0.001."
      ],
      "metadata": {
        "id": "Su1mTcsFtWKX"
      }
    },
    {
      "cell_type": "code",
      "source": [
        "# Training the model\n",
        "def train_word2vec(model, data, epochs=50, batch_size=4, learning_rate=0.001):\n",
        "    optimizer = optim.Adam(model.parameters(), lr=learning_rate)\n",
        "    criterion = nn.CrossEntropyLoss()\n",
        "\n",
        "    for epoch in range(epochs):\n",
        "        np.random.shuffle(data)\n",
        "        losses = []\n",
        "        for i in range(0, len(data), batch_size):\n",
        "            batch = data[i:i+batch_size]\n",
        "            inputs, labels = zip(*batch)\n",
        "            inputs = torch.tensor(inputs, dtype=torch.long)\n",
        "            labels = torch.tensor(labels, dtype=torch.long)\n",
        "\n",
        "            optimizer.zero_grad()\n",
        "            outputs = model(inputs)\n",
        "            loss = criterion(outputs, labels)\n",
        "            loss.backward()\n",
        "            optimizer.step()\n",
        "\n",
        "            losses.append(loss.item())\n",
        "\n",
        "        print(f'Epoch {epoch+1}, Loss: {np.mean(losses):.4f}')\n",
        "\n",
        "train_word2vec(model, data)"
      ],
      "metadata": {
        "colab": {
          "base_uri": "https://localhost:8080/"
        },
        "id": "tXQOkAgkgCs3",
        "outputId": "f743ede0-e9b9-45f5-d4b6-403df3615c7b"
      },
      "execution_count": 82,
      "outputs": [
        {
          "output_type": "stream",
          "name": "stdout",
          "text": [
            "Epoch 1, Loss: 2.4374\n",
            "Epoch 2, Loss: 2.3822\n",
            "Epoch 3, Loss: 2.3753\n",
            "Epoch 4, Loss: 2.3716\n",
            "Epoch 5, Loss: 2.3683\n",
            "Epoch 6, Loss: 2.3647\n",
            "Epoch 7, Loss: 2.3615\n",
            "Epoch 8, Loss: 2.3582\n",
            "Epoch 9, Loss: 2.3552\n",
            "Epoch 10, Loss: 2.3522\n",
            "Epoch 11, Loss: 2.3502\n",
            "Epoch 12, Loss: 2.3479\n",
            "Epoch 13, Loss: 2.3455\n",
            "Epoch 14, Loss: 2.3432\n",
            "Epoch 15, Loss: 2.3415\n",
            "Epoch 16, Loss: 2.3394\n",
            "Epoch 17, Loss: 2.3377\n",
            "Epoch 18, Loss: 2.3361\n",
            "Epoch 19, Loss: 2.3347\n",
            "Epoch 20, Loss: 2.3332\n",
            "Epoch 21, Loss: 2.3320\n",
            "Epoch 22, Loss: 2.3309\n",
            "Epoch 23, Loss: 2.3298\n",
            "Epoch 24, Loss: 2.3287\n",
            "Epoch 25, Loss: 2.3278\n",
            "Epoch 26, Loss: 2.3268\n",
            "Epoch 27, Loss: 2.3260\n",
            "Epoch 28, Loss: 2.3253\n",
            "Epoch 29, Loss: 2.3247\n",
            "Epoch 30, Loss: 2.3242\n",
            "Epoch 31, Loss: 2.3239\n",
            "Epoch 32, Loss: 2.3235\n",
            "Epoch 33, Loss: 2.3234\n",
            "Epoch 34, Loss: 2.3231\n",
            "Epoch 35, Loss: 2.3232\n",
            "Epoch 36, Loss: 2.3229\n",
            "Epoch 37, Loss: 2.3227\n",
            "Epoch 38, Loss: 2.3230\n",
            "Epoch 39, Loss: 2.3226\n",
            "Epoch 40, Loss: 2.3227\n",
            "Epoch 41, Loss: 2.3224\n",
            "Epoch 42, Loss: 2.3226\n",
            "Epoch 43, Loss: 2.3225\n",
            "Epoch 44, Loss: 2.3227\n",
            "Epoch 45, Loss: 2.3227\n",
            "Epoch 46, Loss: 2.3224\n",
            "Epoch 47, Loss: 2.3224\n",
            "Epoch 48, Loss: 2.3222\n",
            "Epoch 49, Loss: 2.3224\n",
            "Epoch 50, Loss: 2.3222\n"
          ]
        }
      ]
    },
    {
      "cell_type": "markdown",
      "source": [
        "Run the code below that displays each of the embeddings in a 2-dimensional plot using Matplotlib.\n"
      ],
      "metadata": {
        "id": "BcJMpAzrvC--"
      }
    },
    {
      "cell_type": "code",
      "source": [
        "# Visualize the embeddings\n",
        "import matplotlib.pyplot as plt\n",
        "\n",
        "def plot_embeddings(model, i2v):\n",
        "    embeddings = model.embedding.data.numpy()\n",
        "    plt.figure(figsize=(10, 10))\n",
        "    for i, word in i2v.items():\n",
        "        x, y = embeddings[i]\n",
        "        plt.scatter(x, y)\n",
        "        plt.text(x + 0.02, y + 0.02, word, fontsize=12)\n",
        "    plt.show()\n",
        "\n",
        "plot_embeddings(model, i2v)"
      ],
      "metadata": {
        "colab": {
          "base_uri": "https://localhost:8080/",
          "height": 830
        },
        "id": "HjUiXq6chAnO",
        "outputId": "124e8150-b14b-4515-a6bd-712888179e82"
      },
      "execution_count": null,
      "outputs": [
        {
          "output_type": "display_data",
          "data": {
            "text/plain": [
              "<Figure size 1000x1000 with 1 Axes>"
            ],
            "image/png": "[encoded data removed]"
          },
          "metadata": {}
        }
      ]
    },
    {
      "cell_type": "markdown",
      "source": [
        "Do the results make sense, and confirm your choices from part 1 of this Section?\n",
        "Answer: Yes the similar context words do appear to closer in the 2-dimensional embedded space\n",
        "\n",
        "What would happen when the window size is too large?\n",
        "Answer: A larger window size means that more distant words are considered as context words. While nearby words are often strongly related to the target word, more distant words might not be as closely related, introducing noise into the training data. This can make the model less effective at capturing meaningful relationships between words.\n",
        "\n",
        "At what value would window become too large for this corpus?\n",
        "Answer: Anything window size larger than 7. This is because our sentences are 5-10 words and if we have a larger than 7 window we would be creating many context pairs across distant words."
      ],
      "metadata": {
        "id": "CRYB0G7tvSxL"
      }
    },
    {
      "cell_type": "markdown",
      "source": [
        "# 4. Training A Single-Neuron Classifier to Determine if a Sentence is Objective or Subjective\n",
        "\n",
        "The purpose of this exercise is to review the code for training a simple network (just a single neuron) to determine if a sentence is objective or subjective."
      ],
      "metadata": {
        "id": "73X6qkEznL_a"
      }
    },
    {
      "cell_type": "code",
      "source": [
        "!pip install gradio"
      ],
      "metadata": {
        "colab": {
          "base_uri": "https://localhost:8080/"
        },
        "id": "0qh5A_xW2HuO",
        "outputId": "36079f69-7a9d-4791-e060-e9f78110c4e6"
      },
      "execution_count": 83,
      "outputs": [
        {
          "output_type": "stream",
          "name": "stdout",
          "text": [
            "Collecting gradio\n",
            "  Downloading gradio-4.36.1-py3-none-any.whl (12.3 MB)\n",
            "\u001b[2K     \u001b[90m━━━━━━━━━━━━━━━━━━━━━━━━━━━━━━━━━━━━━━━━\u001b[0m \u001b[32m12.3/12.3 MB\u001b[0m \u001b[31m29.6 MB/s\u001b[0m eta \u001b[36m0:00:00\u001b[0m\n",
            "\u001b[?25hCollecting aiofiles<24.0,>=22.0 (from gradio)\n",
            "  Downloading aiofiles-23.2.1-py3-none-any.whl (15 kB)\n",
            "Requirement already satisfied: altair<6.0,>=4.2.0 in /usr/local/lib/python3.10/dist-packages (from gradio) (4.2.2)\n",
            "Collecting fastapi (from gradio)\n",
            "  Downloading fastapi-0.111.0-py3-none-any.whl (91 kB)\n",
            "\u001b[2K     \u001b[90m━━━━━━━━━━━━━━━━━━━━━━━━━━━━━━━━━━━━━━━━\u001b[0m \u001b[32m92.0/92.0 kB\u001b[0m \u001b[31m6.0 MB/s\u001b[0m eta \u001b[36m0:00:00\u001b[0m\n",
            "\u001b[?25hCollecting ffmpy (from gradio)\n",
            "  Downloading ffmpy-0.3.2.tar.gz (5.5 kB)\n",
            "  Preparing metadata (setup.py) ... \u001b[?25l\u001b[?25hdone\n",
            "Collecting gradio-client==1.0.1 (from gradio)\n",
            "  Downloading gradio_client-1.0.1-py3-none-any.whl (318 kB)\n",
            "\u001b[2K     \u001b[90m━━━━━━━━━━━━━━━━━━━━━━━━━━━━━━━━━━━━━━━━\u001b[0m \u001b[32m318.1/318.1 kB\u001b[0m \u001b[31m31.0 MB/s\u001b[0m eta \u001b[36m0:00:00\u001b[0m\n",
            "\u001b[?25hCollecting httpx>=0.24.1 (from gradio)\n",
            "  Downloading httpx-0.27.0-py3-none-any.whl (75 kB)\n",
            "\u001b[2K     \u001b[90m━━━━━━━━━━━━━━━━━━━━━━━━━━━━━━━━━━━━━━━━\u001b[0m \u001b[32m75.6/75.6 kB\u001b[0m \u001b[31m9.7 MB/s\u001b[0m eta \u001b[36m0:00:00\u001b[0m\n",
            "\u001b[?25hRequirement already satisfied: huggingface-hub>=0.19.3 in /usr/local/lib/python3.10/dist-packages (from gradio) (0.23.3)\n",
            "Requirement already satisfied: importlib-resources<7.0,>=1.3 in /usr/local/lib/python3.10/dist-packages (from gradio) (6.4.0)\n",
            "Requirement already satisfied: jinja2<4.0 in /usr/local/lib/python3.10/dist-packages (from gradio) (3.1.4)\n",
            "Requirement already satisfied: markupsafe~=2.0 in /usr/local/lib/python3.10/dist-packages (from gradio) (2.1.5)\n",
            "Requirement already satisfied: matplotlib~=3.0 in /usr/local/lib/python3.10/dist-packages (from gradio) (3.7.1)\n",
            "Requirement already satisfied: numpy<3.0,>=1.0 in /usr/local/lib/python3.10/dist-packages (from gradio) (1.25.2)\n",
            "Collecting orjson~=3.0 (from gradio)\n",
            "  Downloading orjson-3.10.5-cp310-cp310-manylinux_2_17_x86_64.manylinux2014_x86_64.whl (144 kB)\n",
            "\u001b[2K     \u001b[90m━━━━━━━━━━━━━━━━━━━━━━━━━━━━━━━━━━━━━━━━\u001b[0m \u001b[32m145.0/145.0 kB\u001b[0m \u001b[31m13.4 MB/s\u001b[0m eta \u001b[36m0:00:00\u001b[0m\n",
            "\u001b[?25hRequirement already satisfied: packaging in /usr/local/lib/python3.10/dist-packages (from gradio) (24.1)\n",
            "Requirement already satisfied: pandas<3.0,>=1.0 in /usr/local/lib/python3.10/dist-packages (from gradio) (2.0.3)\n",
            "Requirement already satisfied: pillow<11.0,>=8.0 in /usr/local/lib/python3.10/dist-packages (from gradio) (9.4.0)\n",
            "Requirement already satisfied: pydantic>=2.0 in /usr/local/lib/python3.10/dist-packages (from gradio) (2.7.3)\n",
            "Collecting pydub (from gradio)\n",
            "  Downloading pydub-0.25.1-py2.py3-none-any.whl (32 kB)\n",
            "Collecting python-multipart>=0.0.9 (from gradio)\n",
            "  Downloading python_multipart-0.0.9-py3-none-any.whl (22 kB)\n",
            "Requirement already satisfied: pyyaml<7.0,>=5.0 in /usr/local/lib/python3.10/dist-packages (from gradio) (6.0.1)\n",
            "Collecting ruff>=0.2.2 (from gradio)\n",
            "  Downloading ruff-0.4.9-py3-none-manylinux_2_17_x86_64.manylinux2014_x86_64.whl (8.8 MB)\n",
            "\u001b[2K     \u001b[90m━━━━━━━━━━━━━━━━━━━━━━━━━━━━━━━━━━━━━━━━\u001b[0m \u001b[32m8.8/8.8 MB\u001b[0m \u001b[31m54.4 MB/s\u001b[0m eta \u001b[36m0:00:00\u001b[0m\n",
            "\u001b[?25hCollecting semantic-version~=2.0 (from gradio)\n",
            "  Downloading semantic_version-2.10.0-py2.py3-none-any.whl (15 kB)\n",
            "Collecting tomlkit==0.12.0 (from gradio)\n",
            "  Downloading tomlkit-0.12.0-py3-none-any.whl (37 kB)\n",
            "Requirement already satisfied: typer<1.0,>=0.12 in /usr/local/lib/python3.10/dist-packages (from gradio) (0.12.3)\n",
            "Requirement already satisfied: typing-extensions~=4.0 in /usr/local/lib/python3.10/dist-packages (from gradio) (4.12.2)\n",
            "Requirement already satisfied: urllib3~=2.0 in /usr/local/lib/python3.10/dist-packages (from gradio) (2.0.7)\n",
            "Collecting uvicorn>=0.14.0 (from gradio)\n",
            "  Downloading uvicorn-0.30.1-py3-none-any.whl (62 kB)\n",
            "\u001b[2K     \u001b[90m━━━━━━━━━━━━━━━━━━━━━━━━━━━━━━━━━━━━━━━━\u001b[0m \u001b[32m62.4/62.4 kB\u001b[0m \u001b[31m7.5 MB/s\u001b[0m eta \u001b[36m0:00:00\u001b[0m\n",
            "\u001b[?25hRequirement already satisfied: fsspec in /usr/local/lib/python3.10/dist-packages (from gradio-client==1.0.1->gradio) (2023.6.0)\n",
            "Collecting websockets<12.0,>=10.0 (from gradio-client==1.0.1->gradio)\n",
            "  Downloading websockets-11.0.3-cp310-cp310-manylinux_2_5_x86_64.manylinux1_x86_64.manylinux_2_17_x86_64.manylinux2014_x86_64.whl (129 kB)\n",
            "\u001b[2K     \u001b[90m━━━━━━━━━━━━━━━━━━━━━━━━━━━━━━━━━━━━━━━━\u001b[0m \u001b[32m129.9/129.9 kB\u001b[0m \u001b[31m12.4 MB/s\u001b[0m eta \u001b[36m0:00:00\u001b[0m\n",
            "\u001b[?25hRequirement already satisfied: entrypoints in /usr/local/lib/python3.10/dist-packages (from altair<6.0,>=4.2.0->gradio) (0.4)\n",
            "Requirement already satisfied: jsonschema>=3.0 in /usr/local/lib/python3.10/dist-packages (from altair<6.0,>=4.2.0->gradio) (4.19.2)\n",
            "Requirement already satisfied: toolz in /usr/local/lib/python3.10/dist-packages (from altair<6.0,>=4.2.0->gradio) (0.12.1)\n",
            "Requirement already satisfied: anyio in /usr/local/lib/python3.10/dist-packages (from httpx>=0.24.1->gradio) (3.7.1)\n",
            "Requirement already satisfied: certifi in /usr/local/lib/python3.10/dist-packages (from httpx>=0.24.1->gradio) (2024.6.2)\n",
            "Collecting httpcore==1.* (from httpx>=0.24.1->gradio)\n",
            "  Downloading httpcore-1.0.5-py3-none-any.whl (77 kB)\n",
            "\u001b[2K     \u001b[90m━━━━━━━━━━━━━━━━━━━━━━━━━━━━━━━━━━━━━━━━\u001b[0m \u001b[32m77.9/77.9 kB\u001b[0m \u001b[31m7.4 MB/s\u001b[0m eta \u001b[36m0:00:00\u001b[0m\n",
            "\u001b[?25hRequirement already satisfied: idna in /usr/local/lib/python3.10/dist-packages (from httpx>=0.24.1->gradio) (3.7)\n",
            "Requirement already satisfied: sniffio in /usr/local/lib/python3.10/dist-packages (from httpx>=0.24.1->gradio) (1.3.1)\n",
            "Collecting h11<0.15,>=0.13 (from httpcore==1.*->httpx>=0.24.1->gradio)\n",
            "  Downloading h11-0.14.0-py3-none-any.whl (58 kB)\n",
            "\u001b[2K     \u001b[90m━━━━━━━━━━━━━━━━━━━━━━━━━━━━━━━━━━━━━━━━\u001b[0m \u001b[32m58.3/58.3 kB\u001b[0m \u001b[31m6.8 MB/s\u001b[0m eta \u001b[36m0:00:00\u001b[0m\n",
            "\u001b[?25hRequirement already satisfied: filelock in /usr/local/lib/python3.10/dist-packages (from huggingface-hub>=0.19.3->gradio) (3.14.0)\n",
            "Requirement already satisfied: requests in /usr/local/lib/python3.10/dist-packages (from huggingface-hub>=0.19.3->gradio) (2.31.0)\n",
            "Requirement already satisfied: tqdm>=4.42.1 in /usr/local/lib/python3.10/dist-packages (from huggingface-hub>=0.19.3->gradio) (4.66.4)\n",
            "Requirement already satisfied: contourpy>=1.0.1 in /usr/local/lib/python3.10/dist-packages (from matplotlib~=3.0->gradio) (1.2.1)\n",
            "Requirement already satisfied: cycler>=0.10 in /usr/local/lib/python3.10/dist-packages (from matplotlib~=3.0->gradio) (0.12.1)\n",
            "Requirement already satisfied: fonttools>=4.22.0 in /usr/local/lib/python3.10/dist-packages (from matplotlib~=3.0->gradio) (4.53.0)\n",
            "Requirement already satisfied: kiwisolver>=1.0.1 in /usr/local/lib/python3.10/dist-packages (from matplotlib~=3.0->gradio) (1.4.5)\n",
            "Requirement already satisfied: pyparsing>=2.3.1 in /usr/local/lib/python3.10/dist-packages (from matplotlib~=3.0->gradio) (3.1.2)\n",
            "Requirement already satisfied: python-dateutil>=2.7 in /usr/local/lib/python3.10/dist-packages (from matplotlib~=3.0->gradio) (2.8.2)\n",
            "Requirement already satisfied: pytz>=2020.1 in /usr/local/lib/python3.10/dist-packages (from pandas<3.0,>=1.0->gradio) (2023.4)\n",
            "Requirement already satisfied: tzdata>=2022.1 in /usr/local/lib/python3.10/dist-packages (from pandas<3.0,>=1.0->gradio) (2024.1)\n",
            "Requirement already satisfied: annotated-types>=0.4.0 in /usr/local/lib/python3.10/dist-packages (from pydantic>=2.0->gradio) (0.7.0)\n",
            "Requirement already satisfied: pydantic-core==2.18.4 in /usr/local/lib/python3.10/dist-packages (from pydantic>=2.0->gradio) (2.18.4)\n",
            "Requirement already satisfied: click>=8.0.0 in /usr/local/lib/python3.10/dist-packages (from typer<1.0,>=0.12->gradio) (8.1.7)\n",
            "Requirement already satisfied: shellingham>=1.3.0 in /usr/local/lib/python3.10/dist-packages (from typer<1.0,>=0.12->gradio) (1.5.4)\n",
            "Requirement already satisfied: rich>=10.11.0 in /usr/local/lib/python3.10/dist-packages (from typer<1.0,>=0.12->gradio) (13.7.1)\n",
            "Collecting starlette<0.38.0,>=0.37.2 (from fastapi->gradio)\n",
            "  Downloading starlette-0.37.2-py3-none-any.whl (71 kB)\n",
            "\u001b[2K     \u001b[90m━━━━━━━━━━━━━━━━━━━━━━━━━━━━━━━━━━━━━━━━\u001b[0m \u001b[32m71.9/71.9 kB\u001b[0m \u001b[31m8.1 MB/s\u001b[0m eta \u001b[36m0:00:00\u001b[0m\n",
            "\u001b[?25hCollecting fastapi-cli>=0.0.2 (from fastapi->gradio)\n",
            "  Downloading fastapi_cli-0.0.4-py3-none-any.whl (9.5 kB)\n",
            "Collecting ujson!=4.0.2,!=4.1.0,!=4.2.0,!=4.3.0,!=5.0.0,!=5.1.0,>=4.0.1 (from fastapi->gradio)\n",
            "  Downloading ujson-5.10.0-cp310-cp310-manylinux_2_17_x86_64.manylinux2014_x86_64.whl (53 kB)\n",
            "\u001b[2K     \u001b[90m━━━━━━━━━━━━━━━━━━━━━━━━━━━━━━━━━━━━━━━━\u001b[0m \u001b[32m53.6/53.6 kB\u001b[0m \u001b[31m3.9 MB/s\u001b[0m eta \u001b[36m0:00:00\u001b[0m\n",
            "\u001b[?25hCollecting email_validator>=2.0.0 (from fastapi->gradio)\n",
            "  Downloading email_validator-2.1.1-py3-none-any.whl (30 kB)\n",
            "Collecting dnspython>=2.0.0 (from email_validator>=2.0.0->fastapi->gradio)\n",
            "  Downloading dnspython-2.6.1-py3-none-any.whl (307 kB)\n",
            "\u001b[2K     \u001b[90m━━━━━━━━━━━━━━━━━━━━━━━━━━━━━━━━━━━━━━━━\u001b[0m \u001b[32m307.7/307.7 kB\u001b[0m \u001b[31m23.9 MB/s\u001b[0m eta \u001b[36m0:00:00\u001b[0m\n",
            "\u001b[?25hRequirement already satisfied: attrs>=22.2.0 in /usr/local/lib/python3.10/dist-packages (from jsonschema>=3.0->altair<6.0,>=4.2.0->gradio) (23.2.0)\n",
            "Requirement already satisfied: jsonschema-specifications>=2023.03.6 in /usr/local/lib/python3.10/dist-packages (from jsonschema>=3.0->altair<6.0,>=4.2.0->gradio) (2023.12.1)\n",
            "Requirement already satisfied: referencing>=0.28.4 in /usr/local/lib/python3.10/dist-packages (from jsonschema>=3.0->altair<6.0,>=4.2.0->gradio) (0.35.1)\n",
            "Requirement already satisfied: rpds-py>=0.7.1 in /usr/local/lib/python3.10/dist-packages (from jsonschema>=3.0->altair<6.0,>=4.2.0->gradio) (0.18.1)\n",
            "Requirement already satisfied: six>=1.5 in /usr/local/lib/python3.10/dist-packages (from python-dateutil>=2.7->matplotlib~=3.0->gradio) (1.16.0)\n",
            "Requirement already satisfied: markdown-it-py>=2.2.0 in /usr/local/lib/python3.10/dist-packages (from rich>=10.11.0->typer<1.0,>=0.12->gradio) (3.0.0)\n",
            "Requirement already satisfied: pygments<3.0.0,>=2.13.0 in /usr/local/lib/python3.10/dist-packages (from rich>=10.11.0->typer<1.0,>=0.12->gradio) (2.16.1)\n",
            "Requirement already satisfied: exceptiongroup in /usr/local/lib/python3.10/dist-packages (from anyio->httpx>=0.24.1->gradio) (1.2.1)\n",
            "Collecting httptools>=0.5.0 (from uvicorn>=0.14.0->gradio)\n",
            "  Downloading httptools-0.6.1-cp310-cp310-manylinux_2_5_x86_64.manylinux1_x86_64.manylinux_2_17_x86_64.manylinux2014_x86_64.whl (341 kB)\n",
            "\u001b[2K     \u001b[90m━━━━━━━━━━━━━━━━━━━━━━━━━━━━━━━━━━━━━━━━\u001b[0m \u001b[32m341.4/341.4 kB\u001b[0m \u001b[31m31.3 MB/s\u001b[0m eta \u001b[36m0:00:00\u001b[0m\n",
            "\u001b[?25hCollecting python-dotenv>=0.13 (from uvicorn>=0.14.0->gradio)\n",
            "  Downloading python_dotenv-1.0.1-py3-none-any.whl (19 kB)\n",
            "Collecting uvloop!=0.15.0,!=0.15.1,>=0.14.0 (from uvicorn>=0.14.0->gradio)\n",
            "  Downloading uvloop-0.19.0-cp310-cp310-manylinux_2_17_x86_64.manylinux2014_x86_64.whl (3.4 MB)\n",
            "\u001b[2K     \u001b[90m━━━━━━━━━━━━━━━━━━━━━━━━━━━━━━━━━━━━━━━━\u001b[0m \u001b[32m3.4/3.4 MB\u001b[0m \u001b[31m69.2 MB/s\u001b[0m eta \u001b[36m0:00:00\u001b[0m\n",
            "\u001b[?25hCollecting watchfiles>=0.13 (from uvicorn>=0.14.0->gradio)\n",
            "  Downloading watchfiles-0.22.0-cp310-cp310-manylinux_2_17_x86_64.manylinux2014_x86_64.whl (1.2 MB)\n",
            "\u001b[2K     \u001b[90m━━━━━━━━━━━━━━━━━━━━━━━━━━━━━━━━━━━━━━━━\u001b[0m \u001b[32m1.2/1.2 MB\u001b[0m \u001b[31m61.7 MB/s\u001b[0m eta \u001b[36m0:00:00\u001b[0m\n",
            "\u001b[?25hRequirement already satisfied: charset-normalizer<4,>=2 in /usr/local/lib/python3.10/dist-packages (from requests->huggingface-hub>=0.19.3->gradio) (3.3.2)\n",
            "Requirement already satisfied: mdurl~=0.1 in /usr/local/lib/python3.10/dist-packages (from markdown-it-py>=2.2.0->rich>=10.11.0->typer<1.0,>=0.12->gradio) (0.1.2)\n",
            "Building wheels for collected packages: ffmpy\n",
            "  Building wheel for ffmpy (setup.py) ... \u001b[?25l\u001b[?25hdone\n",
            "  Created wheel for ffmpy: filename=ffmpy-0.3.2-py3-none-any.whl size=5584 sha256=1417d4033e44e729a84657f1e7592774e0311dcecbb96a2dc8a830bd2b4a96cc\n",
            "  Stored in directory: /root/.cache/pip/wheels/bd/65/9a/671fc6dcde07d4418df0c592f8df512b26d7a0029c2a23dd81\n",
            "Successfully built ffmpy\n",
            "Installing collected packages: pydub, ffmpy, websockets, uvloop, ujson, tomlkit, semantic-version, ruff, python-multipart, python-dotenv, orjson, httptools, h11, dnspython, aiofiles, watchfiles, uvicorn, starlette, httpcore, email_validator, httpx, gradio-client, fastapi-cli, fastapi, gradio\n",
            "Successfully installed aiofiles-23.2.1 dnspython-2.6.1 email_validator-2.1.1 fastapi-0.111.0 fastapi-cli-0.0.4 ffmpy-0.3.2 gradio-4.36.1 gradio-client-1.0.1 h11-0.14.0 httpcore-1.0.5 httptools-0.6.1 httpx-0.27.0 orjson-3.10.5 pydub-0.25.1 python-dotenv-1.0.1 python-multipart-0.0.9 ruff-0.4.9 semantic-version-2.10.0 starlette-0.37.2 tomlkit-0.12.0 ujson-5.10.0 uvicorn-0.30.1 uvloop-0.19.0 watchfiles-0.22.0 websockets-11.0.3\n"
          ]
        }
      ]
    },
    {
      "cell_type": "code",
      "source": [
        "import pandas as pd\n",
        "import numpy as np\n",
        "import torch\n",
        "import torch.nn as nn\n",
        "import torch.optim as optim\n",
        "from torch.utils.data import DataLoader, Dataset\n",
        "from sklearn.model_selection import train_test_split\n",
        "import spacy\n",
        "from torchtext.vocab import GloVe\n",
        "import gradio as gr\n",
        "import matplotlib.pyplot as plt"
      ],
      "metadata": {
        "id": "nkW2BxazxnED"
      },
      "execution_count": 90,
      "outputs": []
    },
    {
      "cell_type": "code",
      "source": [
        "# Upload the file data.tsv in colab and Load the data\n",
        "df = pd.read_csv('data.tsv', sep='\\t', header=None, names=['sentence', 'label'])\n",
        "df = df.loc[1:]"
      ],
      "metadata": {
        "id": "p9fZDTPnwGZy"
      },
      "execution_count": 85,
      "outputs": []
    },
    {
      "cell_type": "markdown",
      "source": [
        "Take a quick look at the file data.tsv to see which sentences were labelled subjective (1) and which objective (0). (The 1’s are in the first half of the file)"
      ],
      "metadata": {
        "id": "GuxuwOWDwmsD"
      }
    },
    {
      "cell_type": "markdown",
      "source": [
        "Read through each of the code blocks, getting a rough sense of what is going on by reading the comments.\n",
        "You see code functions that split the dataset, in the tab-separated file data.tsv into training, validation and test sets.\n",
        "Perhaps look closest at the code block call “Classifier model” class where you can see the torch.nn.Linear class being used to instantiate a single neuron with embedding_size inputs and just 1 output."
      ],
      "metadata": {
        "id": "lY1VMmgL5EPz"
      }
    },
    {
      "cell_type": "code",
      "source": [
        "# Load SpaCy's English language model\n",
        "nlp = spacy.load(\"en_core_web_sm\")\n",
        "\n",
        "# Load GloVe embeddings using torchtext\n",
        "glove = GloVe(name='6B', dim=50)\n",
        "embedding_size = 50  # Size of GloVe embeddings\n",
        "\n",
        "# Function to convert a sentence to an embedding by averaging word embeddings\n",
        "def sentence_to_embedding(sentence, glove):\n",
        "    tokens = [token.text for token in nlp(sentence) if token.is_alpha]\n",
        "    embeddings = [glove[token] for token in tokens if token in glove.stoi]\n",
        "    if embeddings:\n",
        "        return torch.mean(torch.stack(embeddings), dim=0)\n",
        "    else:\n",
        "        return torch.zeros(embedding_size)\n",
        "\n",
        "# Convert all sentences to embeddings at once\n",
        "def convert_sentences_to_embeddings(sentences, glove):\n",
        "    embeddings = [sentence_to_embedding(sentence, glove) for sentence in sentences]\n",
        "    return torch.stack(embeddings)\n",
        "\n",
        "# Splitting the data into train, validation, and test sets\n",
        "train_sentences, test_sentences, train_labels, test_labels = train_test_split(\n",
        "    df['sentence'], df['label'], test_size=0.2, random_state=42)\n",
        "train_sentences, val_sentences, train_labels, val_labels = train_test_split(\n",
        "    train_sentences, train_labels, test_size=0.125, random_state=42)  # 0.125 * 0.8 = 0.1\n",
        "\n",
        "train_embeddings = convert_sentences_to_embeddings(train_sentences, glove)\n",
        "val_embeddings = convert_sentences_to_embeddings(val_sentences, glove)\n",
        "test_embeddings = convert_sentences_to_embeddings(test_sentences, glove)"
      ],
      "metadata": {
        "id": "2y6wogi63BKP"
      },
      "execution_count": 86,
      "outputs": []
    },
    {
      "cell_type": "code",
      "source": [
        "# Custom dataset class\n",
        "class TextDataset(Dataset):\n",
        "    def __init__(self, embeddings, labels):\n",
        "        self.embeddings = embeddings\n",
        "        self.labels = labels\n",
        "\n",
        "    def __len__(self):\n",
        "        return len(self.embeddings)\n",
        "\n",
        "    def __getitem__(self, idx):\n",
        "        embedding = self.embeddings[idx]\n",
        "        label = self.labels[idx]\n",
        "        return embedding, torch.tensor(float(label), dtype=torch.float32)\n",
        "\n",
        "# Convert to dataset\n",
        "train_dataset = TextDataset(train_embeddings, train_labels.tolist())\n",
        "val_dataset = TextDataset(val_embeddings, val_labels.tolist())\n",
        "test_dataset = TextDataset(test_embeddings, test_labels.tolist())\n",
        "\n",
        "# Create data loaders\n",
        "batch_size = 128\n",
        "train_loader = DataLoader(train_dataset, batch_size=batch_size, shuffle=True)\n",
        "val_loader = DataLoader(val_dataset, batch_size=batch_size, shuffle=False)\n",
        "test_loader = DataLoader(test_dataset, batch_size=batch_size, shuffle=False)"
      ],
      "metadata": {
        "id": "1OToKZZs9vpx"
      },
      "execution_count": 87,
      "outputs": []
    },
    {
      "cell_type": "code",
      "source": [
        "# Define the classifier model\n",
        "class ClassifierModel(nn.Module):\n",
        "    def __init__(self, input_size):\n",
        "        super(ClassifierModel, self).__init__()\n",
        "        self.linear = nn.Linear(input_size, 1)\n",
        "\n",
        "    def forward(self, x):\n",
        "        x = self.linear(x)\n",
        "        return torch.sigmoid(x)\n"
      ],
      "metadata": {
        "id": "5976y14B6BYb"
      },
      "execution_count": 88,
      "outputs": []
    },
    {
      "cell_type": "code",
      "source": [
        "#Initialize the model\n",
        "model = ClassifierModel(embedding_size)\n",
        "\n",
        "# Loss and optimizer\n",
        "criterion = nn.BCELoss()\n",
        "optimizer = optim.Adam(model.parameters(), lr=0.001)\n",
        "\n",
        "# Training the model\n",
        "def train_model(model, train_loader, val_loader, criterion, optimizer, num_epochs=10):\n",
        "    train_losses = []\n",
        "    val_losses = []\n",
        "    val_accuracies = []\n",
        "\n",
        "    for epoch in range(num_epochs):\n",
        "        model.train()\n",
        "        batch_train_losses = []\n",
        "        for embeddings, labels in train_loader:\n",
        "            labels = labels.view(-1, 1)\n",
        "\n",
        "            optimizer.zero_grad()\n",
        "            outputs = model(embeddings)\n",
        "            loss = criterion(outputs, labels)\n",
        "            loss.backward()\n",
        "            optimizer.step()\n",
        "\n",
        "            batch_train_losses.append(loss.item())\n",
        "\n",
        "        model.eval()\n",
        "        batch_val_losses = []\n",
        "        correct = 0\n",
        "        total = 0\n",
        "        with torch.no_grad():\n",
        "            for embeddings, labels in val_loader:\n",
        "                labels = labels.view(-1, 1)\n",
        "\n",
        "                outputs = model(embeddings)\n",
        "                loss = criterion(outputs, labels)\n",
        "\n",
        "                batch_val_losses.append(loss.item())\n",
        "\n",
        "                predicted = (outputs > 0.5).float()\n",
        "                total += labels.size(0)\n",
        "                correct += (predicted == labels).sum().item()\n",
        "\n",
        "        train_loss = np.mean(batch_train_losses)\n",
        "        val_loss = np.mean(batch_val_losses)\n",
        "        val_accuracy = correct / total\n",
        "\n",
        "        train_losses.append(train_loss)\n",
        "        val_losses.append(val_loss)\n",
        "        val_accuracies.append(val_accuracy)\n",
        "\n",
        "        print(f'Epoch {epoch+1}, Training Loss: {train_loss:.4f}, Validation Loss: {val_loss:.4f}, Validation Accuracy: {val_accuracy:.4f}')\n",
        "\n",
        "    return train_losses, val_losses, val_accuracies\n",
        "\n",
        "num_epochs = 20\n",
        "train_losses, val_losses, val_accuracies = train_model(model, train_loader, val_loader, criterion, optimizer, num_epochs)\n",
        "\n",
        "# Plotting training and validation losses\n",
        "plt.figure(figsize=(5, 2.5))\n",
        "plt.plot(range(num_epochs), train_losses, label='Training Loss')\n",
        "plt.plot(range(num_epochs), val_losses, label='Validation Loss')\n",
        "plt.xlabel('Epochs')\n",
        "plt.ylabel('Loss')\n",
        "plt.legend()\n",
        "plt.show()\n",
        "\n",
        "# Plotting validation accuracy\n",
        "plt.figure(figsize=(5, 2.5))\n",
        "plt.plot(range(num_epochs), val_accuracies, label='Validation Accuracy')\n",
        "plt.xlabel('Epochs')\n",
        "plt.ylabel('Accuracy')\n",
        "plt.legend()\n",
        "plt.show()\n",
        "\n",
        "# Define the function to evaluate the model\n",
        "def evaluate_model(model, test_loader):\n",
        "    model.eval()\n",
        "    test_losses = []\n",
        "    correct = 0\n",
        "    total = 0\n",
        "    with torch.no_grad():\n",
        "        for embeddings, labels in test_loader:\n",
        "            labels = labels.view(-1, 1)\n",
        "\n",
        "            outputs = model(embeddings)\n",
        "            loss = criterion(outputs, labels)\n",
        "            test_losses.append(loss.item())\n",
        "\n",
        "            predicted = (outputs > 0.5).float()\n",
        "            total += labels.size(0)\n",
        "            correct += (predicted == labels).sum().item()\n",
        "\n",
        "    accuracy = correct / total\n",
        "    print(f'Test Loss: {np.mean(test_losses):.4f}, Accuracy: {accuracy:.4f}')\n",
        "\n",
        "print(\"\\n\")\n",
        "evaluate_model(model, test_loader)"
      ],
      "metadata": {
        "colab": {
          "base_uri": "https://localhost:8080/",
          "height": 944
        },
        "id": "8_-EzPeB2ZeE",
        "outputId": "6522fb38-3ccc-4b5f-e953-600e672f63cf"
      },
      "execution_count": 91,
      "outputs": [
        {
          "output_type": "stream",
          "name": "stdout",
          "text": [
            "Epoch 1, Training Loss: 0.6847, Validation Loss: 0.6677, Validation Accuracy: 0.7290\n",
            "Epoch 2, Training Loss: 0.6507, Validation Loss: 0.6342, Validation Accuracy: 0.8180\n",
            "Epoch 3, Training Loss: 0.6202, Validation Loss: 0.6043, Validation Accuracy: 0.8460\n",
            "Epoch 4, Training Loss: 0.5931, Validation Loss: 0.5776, Validation Accuracy: 0.8640\n",
            "Epoch 5, Training Loss: 0.5692, Validation Loss: 0.5539, Validation Accuracy: 0.8670\n",
            "Epoch 6, Training Loss: 0.5476, Validation Loss: 0.5325, Validation Accuracy: 0.8720\n",
            "Epoch 7, Training Loss: 0.5283, Validation Loss: 0.5134, Validation Accuracy: 0.8760\n",
            "Epoch 8, Training Loss: 0.5111, Validation Loss: 0.4963, Validation Accuracy: 0.8790\n",
            "Epoch 9, Training Loss: 0.4957, Validation Loss: 0.4807, Validation Accuracy: 0.8810\n",
            "Epoch 10, Training Loss: 0.4815, Validation Loss: 0.4666, Validation Accuracy: 0.8830\n",
            "Epoch 11, Training Loss: 0.4690, Validation Loss: 0.4538, Validation Accuracy: 0.8850\n",
            "Epoch 12, Training Loss: 0.4575, Validation Loss: 0.4421, Validation Accuracy: 0.8860\n",
            "Epoch 13, Training Loss: 0.4468, Validation Loss: 0.4317, Validation Accuracy: 0.8870\n",
            "Epoch 14, Training Loss: 0.4374, Validation Loss: 0.4217, Validation Accuracy: 0.8870\n",
            "Epoch 15, Training Loss: 0.4284, Validation Loss: 0.4129, Validation Accuracy: 0.8880\n",
            "Epoch 16, Training Loss: 0.4206, Validation Loss: 0.4045, Validation Accuracy: 0.8890\n",
            "Epoch 17, Training Loss: 0.4129, Validation Loss: 0.3970, Validation Accuracy: 0.8870\n",
            "Epoch 18, Training Loss: 0.4062, Validation Loss: 0.3899, Validation Accuracy: 0.8890\n",
            "Epoch 19, Training Loss: 0.4001, Validation Loss: 0.3833, Validation Accuracy: 0.8900\n",
            "Epoch 20, Training Loss: 0.3937, Validation Loss: 0.3775, Validation Accuracy: 0.8870\n"
          ]
        },
        {
          "output_type": "display_data",
          "data": {
            "text/plain": [
              "<Figure size 500x250 with 1 Axes>"
            ],
            "image/png": "[encoded data removed]"
          },
          "metadata": {}
        },
        {
          "output_type": "display_data",
          "data": {
            "text/plain": [
              "<Figure size 500x250 with 1 Axes>"
            ],
            "image/png": "[encoded data removed]"
          },
          "metadata": {}
        },
        {
          "output_type": "stream",
          "name": "stdout",
          "text": [
            "\n",
            "\n",
            "Test Loss: 0.3898, Accuracy: 0.8745\n"
          ]
        }
      ]
    },
    {
      "cell_type": "markdown",
      "source": [
        "Run the remaining code, which installs the gradio package and sets up an easy-to-use inter- face with the trained model, that you can type in any sentence and have the model decide if it is subjective or objective. To use the interface, just type in the sentence and click the classify button. You may find that it is better at classifying longer sentences, as that is the nature of the dataset it was trained on."
      ],
      "metadata": {
        "id": "SV4zHHKCD0Vl"
      }
    },
    {
      "cell_type": "code",
      "source": [
        "# Define the Gradio interface\n",
        "def classify_sentence(sentence):\n",
        "    embedding = sentence_to_embedding(sentence, glove)\n",
        "    embedding = embedding.unsqueeze(0)\n",
        "    output = model(embedding)\n",
        "    label = 'Subjective' if output > 0.5 else 'Objective'\n",
        "    return label\n",
        "\n",
        "gr.Interface(fn=classify_sentence, inputs=\"text\", outputs=\"text\").launch()"
      ],
      "metadata": {
        "colab": {
          "base_uri": "https://localhost:8080/",
          "height": 648
        },
        "id": "iXmfEDUY2hs2",
        "outputId": "50356765-6f9d-4bcf-ae09-ac84622fc051"
      },
      "execution_count": 92,
      "outputs": [
        {
          "output_type": "stream",
          "name": "stdout",
          "text": [
            "Setting queue=True in a Colab notebook requires sharing enabled. Setting `share=True` (you can turn this off by setting `share=False` in `launch()` explicitly).\n",
            "\n",
            "Colab notebook detected. To show errors in colab notebook, set debug=True in launch()\n",
            "Running on public URL: https://87e008d7762471abdc.gradio.live\n",
            "\n",
            "This share link expires in 72 hours. For free permanent hosting and GPU upgrades, run `gradio deploy` from Terminal to deploy to Spaces (https://huggingface.co/spaces)\n"
          ]
        },
        {
          "output_type": "display_data",
          "data": {
            "text/plain": [
              "<IPython.core.display.HTML object>"
            ],
            "text/html": [
              "<div><iframe src=\"https://87e008d7762471abdc.gradio.live\" width=\"100%\" height=\"500\" allow=\"autoplay; camera; microphone; clipboard-read; clipboard-write;\" frameborder=\"0\" allowfullscreen></iframe></div>"
            ]
          },
          "metadata": {}
        },
        {
          "output_type": "execute_result",
          "data": {
            "text/plain": []
          },
          "metadata": {},
          "execution_count": 92
        }
      ]
    }
  ]
}